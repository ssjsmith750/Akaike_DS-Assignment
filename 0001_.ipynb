{
  "cells": [
    {
      "cell_type": "markdown",
      "metadata": {
        "id": "view-in-github",
        "colab_type": "text"
      },
      "source": [
        "<a href=\"https://colab.research.google.com/github/ssjsmith750/Akaike_DS-Assignment/blob/main/0001_.ipynb\" target=\"_parent\"><img src=\"https://colab.research.google.com/assets/colab-badge.svg\" alt=\"Open In Colab\"/></a>"
      ]
    },
    {
      "cell_type": "code",
      "execution_count": 40,
      "metadata": {
        "colab": {
          "base_uri": "https://localhost:8080/"
        },
        "id": "9OCSAeFX3gLR",
        "outputId": "29606e81-0adf-4b72-e860-cda700bd457c"
      },
      "outputs": [
        {
          "output_type": "stream",
          "name": "stdout",
          "text": [
            "Looking in indexes: https://pypi.org/simple, https://us-python.pkg.dev/colab-wheels/public/simple/\n",
            "Requirement already satisfied: category_encoders in /usr/local/lib/python3.10/dist-packages (2.6.1)\n",
            "Requirement already satisfied: numpy>=1.14.0 in /usr/local/lib/python3.10/dist-packages (from category_encoders) (1.22.4)\n",
            "Requirement already satisfied: scikit-learn>=0.20.0 in /usr/local/lib/python3.10/dist-packages (from category_encoders) (1.2.2)\n",
            "Requirement already satisfied: scipy>=1.0.0 in /usr/local/lib/python3.10/dist-packages (from category_encoders) (1.10.1)\n",
            "Requirement already satisfied: statsmodels>=0.9.0 in /usr/local/lib/python3.10/dist-packages (from category_encoders) (0.13.5)\n",
            "Requirement already satisfied: pandas>=1.0.5 in /usr/local/lib/python3.10/dist-packages (from category_encoders) (1.5.3)\n",
            "Requirement already satisfied: patsy>=0.5.1 in /usr/local/lib/python3.10/dist-packages (from category_encoders) (0.5.3)\n",
            "Requirement already satisfied: python-dateutil>=2.8.1 in /usr/local/lib/python3.10/dist-packages (from pandas>=1.0.5->category_encoders) (2.8.2)\n",
            "Requirement already satisfied: pytz>=2020.1 in /usr/local/lib/python3.10/dist-packages (from pandas>=1.0.5->category_encoders) (2022.7.1)\n",
            "Requirement already satisfied: six in /usr/local/lib/python3.10/dist-packages (from patsy>=0.5.1->category_encoders) (1.16.0)\n",
            "Requirement already satisfied: joblib>=1.1.1 in /usr/local/lib/python3.10/dist-packages (from scikit-learn>=0.20.0->category_encoders) (1.2.0)\n",
            "Requirement already satisfied: threadpoolctl>=2.0.0 in /usr/local/lib/python3.10/dist-packages (from scikit-learn>=0.20.0->category_encoders) (3.1.0)\n",
            "Requirement already satisfied: packaging>=21.3 in /usr/local/lib/python3.10/dist-packages (from statsmodels>=0.9.0->category_encoders) (23.1)\n"
          ]
        }
      ],
      "source": [
        "pip install category_encoders"
      ]
    },
    {
      "cell_type": "code",
      "execution_count": 41,
      "metadata": {
        "id": "JLcBZjsGzsWd"
      },
      "outputs": [],
      "source": [
        "import pandas as pd\n",
        "import numpy as np\n",
        "import matplotlib.pyplot as plt\n",
        "import seaborn as sns"
      ]
    },
    {
      "cell_type": "code",
      "execution_count": 42,
      "metadata": {
        "id": "SWivG7aw3w-i"
      },
      "outputs": [],
      "source": [
        "import warnings\n",
        "warnings.filterwarnings(\"ignore\")"
      ]
    },
    {
      "cell_type": "code",
      "execution_count": 43,
      "metadata": {
        "colab": {
          "base_uri": "https://localhost:8080/",
          "height": 423
        },
        "id": "u3I98pkH0HwV",
        "outputId": "35813597-94d9-4483-b206-c9c2e8c36366"
      },
      "outputs": [
        {
          "output_type": "execute_result",
          "data": {
            "text/plain": [
              "                                   Patient-Uid       Date           Incident\n",
              "0         a0db1e73-1c7c-11ec-ae39-16262ee38c7f 2019-03-09  PRIMARY_DIAGNOSIS\n",
              "1         a0dc93f2-1c7c-11ec-9cd2-16262ee38c7f 2015-05-16  PRIMARY_DIAGNOSIS\n",
              "3         a0dc94c6-1c7c-11ec-a3a0-16262ee38c7f 2018-01-30     SYMPTOM_TYPE_0\n",
              "4         a0dc950b-1c7c-11ec-b6ec-16262ee38c7f 2015-04-22        DRUG_TYPE_0\n",
              "8         a0dc9543-1c7c-11ec-bb63-16262ee38c7f 2016-06-18        DRUG_TYPE_1\n",
              "...                                        ...        ...                ...\n",
              "29080886  a0ee9f75-1c7c-11ec-94c7-16262ee38c7f 2018-07-06        DRUG_TYPE_6\n",
              "29080897  a0ee1284-1c7c-11ec-a3d5-16262ee38c7f 2017-12-29        DRUG_TYPE_6\n",
              "29080900  a0ee9b26-1c7c-11ec-8a40-16262ee38c7f 2018-10-18       DRUG_TYPE_10\n",
              "29080903  a0ee1a92-1c7c-11ec-8341-16262ee38c7f 2015-09-18        DRUG_TYPE_6\n",
              "29080911  a0ee146e-1c7c-11ec-baee-16262ee38c7f 2018-10-05        DRUG_TYPE_1\n",
              "\n",
              "[3220868 rows x 3 columns]"
            ],
            "text/html": [
              "\n",
              "  <div id=\"df-a1996919-ba63-45e9-a158-0ea7afbf930e\">\n",
              "    <div class=\"colab-df-container\">\n",
              "      <div>\n",
              "<style scoped>\n",
              "    .dataframe tbody tr th:only-of-type {\n",
              "        vertical-align: middle;\n",
              "    }\n",
              "\n",
              "    .dataframe tbody tr th {\n",
              "        vertical-align: top;\n",
              "    }\n",
              "\n",
              "    .dataframe thead th {\n",
              "        text-align: right;\n",
              "    }\n",
              "</style>\n",
              "<table border=\"1\" class=\"dataframe\">\n",
              "  <thead>\n",
              "    <tr style=\"text-align: right;\">\n",
              "      <th></th>\n",
              "      <th>Patient-Uid</th>\n",
              "      <th>Date</th>\n",
              "      <th>Incident</th>\n",
              "    </tr>\n",
              "  </thead>\n",
              "  <tbody>\n",
              "    <tr>\n",
              "      <th>0</th>\n",
              "      <td>a0db1e73-1c7c-11ec-ae39-16262ee38c7f</td>\n",
              "      <td>2019-03-09</td>\n",
              "      <td>PRIMARY_DIAGNOSIS</td>\n",
              "    </tr>\n",
              "    <tr>\n",
              "      <th>1</th>\n",
              "      <td>a0dc93f2-1c7c-11ec-9cd2-16262ee38c7f</td>\n",
              "      <td>2015-05-16</td>\n",
              "      <td>PRIMARY_DIAGNOSIS</td>\n",
              "    </tr>\n",
              "    <tr>\n",
              "      <th>3</th>\n",
              "      <td>a0dc94c6-1c7c-11ec-a3a0-16262ee38c7f</td>\n",
              "      <td>2018-01-30</td>\n",
              "      <td>SYMPTOM_TYPE_0</td>\n",
              "    </tr>\n",
              "    <tr>\n",
              "      <th>4</th>\n",
              "      <td>a0dc950b-1c7c-11ec-b6ec-16262ee38c7f</td>\n",
              "      <td>2015-04-22</td>\n",
              "      <td>DRUG_TYPE_0</td>\n",
              "    </tr>\n",
              "    <tr>\n",
              "      <th>8</th>\n",
              "      <td>a0dc9543-1c7c-11ec-bb63-16262ee38c7f</td>\n",
              "      <td>2016-06-18</td>\n",
              "      <td>DRUG_TYPE_1</td>\n",
              "    </tr>\n",
              "    <tr>\n",
              "      <th>...</th>\n",
              "      <td>...</td>\n",
              "      <td>...</td>\n",
              "      <td>...</td>\n",
              "    </tr>\n",
              "    <tr>\n",
              "      <th>29080886</th>\n",
              "      <td>a0ee9f75-1c7c-11ec-94c7-16262ee38c7f</td>\n",
              "      <td>2018-07-06</td>\n",
              "      <td>DRUG_TYPE_6</td>\n",
              "    </tr>\n",
              "    <tr>\n",
              "      <th>29080897</th>\n",
              "      <td>a0ee1284-1c7c-11ec-a3d5-16262ee38c7f</td>\n",
              "      <td>2017-12-29</td>\n",
              "      <td>DRUG_TYPE_6</td>\n",
              "    </tr>\n",
              "    <tr>\n",
              "      <th>29080900</th>\n",
              "      <td>a0ee9b26-1c7c-11ec-8a40-16262ee38c7f</td>\n",
              "      <td>2018-10-18</td>\n",
              "      <td>DRUG_TYPE_10</td>\n",
              "    </tr>\n",
              "    <tr>\n",
              "      <th>29080903</th>\n",
              "      <td>a0ee1a92-1c7c-11ec-8341-16262ee38c7f</td>\n",
              "      <td>2015-09-18</td>\n",
              "      <td>DRUG_TYPE_6</td>\n",
              "    </tr>\n",
              "    <tr>\n",
              "      <th>29080911</th>\n",
              "      <td>a0ee146e-1c7c-11ec-baee-16262ee38c7f</td>\n",
              "      <td>2018-10-05</td>\n",
              "      <td>DRUG_TYPE_1</td>\n",
              "    </tr>\n",
              "  </tbody>\n",
              "</table>\n",
              "<p>3220868 rows × 3 columns</p>\n",
              "</div>\n",
              "      <button class=\"colab-df-convert\" onclick=\"convertToInteractive('df-a1996919-ba63-45e9-a158-0ea7afbf930e')\"\n",
              "              title=\"Convert this dataframe to an interactive table.\"\n",
              "              style=\"display:none;\">\n",
              "        \n",
              "  <svg xmlns=\"http://www.w3.org/2000/svg\" height=\"24px\"viewBox=\"0 0 24 24\"\n",
              "       width=\"24px\">\n",
              "    <path d=\"M0 0h24v24H0V0z\" fill=\"none\"/>\n",
              "    <path d=\"M18.56 5.44l.94 2.06.94-2.06 2.06-.94-2.06-.94-.94-2.06-.94 2.06-2.06.94zm-11 1L8.5 8.5l.94-2.06 2.06-.94-2.06-.94L8.5 2.5l-.94 2.06-2.06.94zm10 10l.94 2.06.94-2.06 2.06-.94-2.06-.94-.94-2.06-.94 2.06-2.06.94z\"/><path d=\"M17.41 7.96l-1.37-1.37c-.4-.4-.92-.59-1.43-.59-.52 0-1.04.2-1.43.59L10.3 9.45l-7.72 7.72c-.78.78-.78 2.05 0 2.83L4 21.41c.39.39.9.59 1.41.59.51 0 1.02-.2 1.41-.59l7.78-7.78 2.81-2.81c.8-.78.8-2.07 0-2.86zM5.41 20L4 18.59l7.72-7.72 1.47 1.35L5.41 20z\"/>\n",
              "  </svg>\n",
              "      </button>\n",
              "      \n",
              "  <style>\n",
              "    .colab-df-container {\n",
              "      display:flex;\n",
              "      flex-wrap:wrap;\n",
              "      gap: 12px;\n",
              "    }\n",
              "\n",
              "    .colab-df-convert {\n",
              "      background-color: #E8F0FE;\n",
              "      border: none;\n",
              "      border-radius: 50%;\n",
              "      cursor: pointer;\n",
              "      display: none;\n",
              "      fill: #1967D2;\n",
              "      height: 32px;\n",
              "      padding: 0 0 0 0;\n",
              "      width: 32px;\n",
              "    }\n",
              "\n",
              "    .colab-df-convert:hover {\n",
              "      background-color: #E2EBFA;\n",
              "      box-shadow: 0px 1px 2px rgba(60, 64, 67, 0.3), 0px 1px 3px 1px rgba(60, 64, 67, 0.15);\n",
              "      fill: #174EA6;\n",
              "    }\n",
              "\n",
              "    [theme=dark] .colab-df-convert {\n",
              "      background-color: #3B4455;\n",
              "      fill: #D2E3FC;\n",
              "    }\n",
              "\n",
              "    [theme=dark] .colab-df-convert:hover {\n",
              "      background-color: #434B5C;\n",
              "      box-shadow: 0px 1px 3px 1px rgba(0, 0, 0, 0.15);\n",
              "      filter: drop-shadow(0px 1px 2px rgba(0, 0, 0, 0.3));\n",
              "      fill: #FFFFFF;\n",
              "    }\n",
              "  </style>\n",
              "\n",
              "      <script>\n",
              "        const buttonEl =\n",
              "          document.querySelector('#df-a1996919-ba63-45e9-a158-0ea7afbf930e button.colab-df-convert');\n",
              "        buttonEl.style.display =\n",
              "          google.colab.kernel.accessAllowed ? 'block' : 'none';\n",
              "\n",
              "        async function convertToInteractive(key) {\n",
              "          const element = document.querySelector('#df-a1996919-ba63-45e9-a158-0ea7afbf930e');\n",
              "          const dataTable =\n",
              "            await google.colab.kernel.invokeFunction('convertToInteractive',\n",
              "                                                     [key], {});\n",
              "          if (!dataTable) return;\n",
              "\n",
              "          const docLinkHtml = 'Like what you see? Visit the ' +\n",
              "            '<a target=\"_blank\" href=https://colab.research.google.com/notebooks/data_table.ipynb>data table notebook</a>'\n",
              "            + ' to learn more about interactive tables.';\n",
              "          element.innerHTML = '';\n",
              "          dataTable['output_type'] = 'display_data';\n",
              "          await google.colab.output.renderOutput(dataTable, element);\n",
              "          const docLink = document.createElement('div');\n",
              "          docLink.innerHTML = docLinkHtml;\n",
              "          element.appendChild(docLink);\n",
              "        }\n",
              "      </script>\n",
              "    </div>\n",
              "  </div>\n",
              "  "
            ]
          },
          "metadata": {},
          "execution_count": 43
        }
      ],
      "source": [
        "df1 = pd.read_parquet('/content/train.parquet')\n",
        "df1"
      ]
    },
    {
      "cell_type": "markdown",
      "metadata": {
        "id": "ttmddIKN0cFg"
      },
      "source": [
        "#**Checking whether the Target variable is Balenced or not**"
      ]
    },
    {
      "cell_type": "code",
      "execution_count": 44,
      "metadata": {
        "colab": {
          "base_uri": "https://localhost:8080/"
        },
        "id": "JRG1lm4b0Pd3",
        "outputId": "4ce1db42-aa9a-4f12-c648-6d1bd94d0014"
      },
      "outputs": [
        {
          "output_type": "execute_result",
          "data": {
            "text/plain": [
              "<bound method IndexOpsMixin.value_counts of 0           PRIMARY_DIAGNOSIS\n",
              "1           PRIMARY_DIAGNOSIS\n",
              "3              SYMPTOM_TYPE_0\n",
              "4                 DRUG_TYPE_0\n",
              "8                 DRUG_TYPE_1\n",
              "                  ...        \n",
              "29080886          DRUG_TYPE_6\n",
              "29080897          DRUG_TYPE_6\n",
              "29080900         DRUG_TYPE_10\n",
              "29080903          DRUG_TYPE_6\n",
              "29080911          DRUG_TYPE_1\n",
              "Name: Incident, Length: 3220868, dtype: object>"
            ]
          },
          "metadata": {},
          "execution_count": 44
        }
      ],
      "source": [
        "df1.Incident.value_counts"
      ]
    },
    {
      "cell_type": "markdown",
      "metadata": {
        "id": "jSukhOJX2fwf"
      },
      "source": [
        "Checking For null values"
      ]
    },
    {
      "cell_type": "code",
      "execution_count": 45,
      "metadata": {
        "colab": {
          "base_uri": "https://localhost:8080/"
        },
        "id": "cPQBwAgW2i8B",
        "outputId": "051f62ca-d7c3-4bd3-9bf6-6a6926621688"
      },
      "outputs": [
        {
          "output_type": "execute_result",
          "data": {
            "text/plain": [
              "Patient-Uid    0\n",
              "Date           0\n",
              "Incident       0\n",
              "dtype: int64"
            ]
          },
          "metadata": {},
          "execution_count": 45
        }
      ],
      "source": [
        "df1.isnull().sum()"
      ]
    },
    {
      "cell_type": "markdown",
      "metadata": {
        "id": "Y1_WyVHl2y2k"
      },
      "source": [
        "Checking for duplicates"
      ]
    },
    {
      "cell_type": "code",
      "execution_count": 46,
      "metadata": {
        "colab": {
          "base_uri": "https://localhost:8080/"
        },
        "id": "ZF87g-C-22oz",
        "outputId": "78f74643-fc8f-4ecb-89cc-1bd198fac2f7"
      },
      "outputs": [
        {
          "output_type": "execute_result",
          "data": {
            "text/plain": [
              "35571"
            ]
          },
          "metadata": {},
          "execution_count": 46
        }
      ],
      "source": [
        "df1.duplicated().sum()\n"
      ]
    },
    {
      "cell_type": "code",
      "execution_count": 47,
      "metadata": {
        "id": "2sI5R_Hc3AHq"
      },
      "outputs": [],
      "source": [
        "df1 = df1.drop_duplicates()"
      ]
    },
    {
      "cell_type": "code",
      "execution_count": 48,
      "metadata": {
        "colab": {
          "base_uri": "https://localhost:8080/"
        },
        "id": "91xVsRTR3NdW",
        "outputId": "7ad3b0fa-3c23-44bc-8b40-215b1b618c88"
      },
      "outputs": [
        {
          "output_type": "execute_result",
          "data": {
            "text/plain": [
              "0"
            ]
          },
          "metadata": {},
          "execution_count": 48
        }
      ],
      "source": [
        "df1.duplicated().sum()"
      ]
    },
    {
      "cell_type": "markdown",
      "metadata": {
        "id": "w6zoRjtG4sY2"
      },
      "source": [
        "Converting Date Variable to Date and Time format"
      ]
    },
    {
      "cell_type": "code",
      "execution_count": 49,
      "metadata": {
        "id": "_6tiZyIn4r71"
      },
      "outputs": [],
      "source": [
        "from datetime import datetime, timedelta\n",
        "df1['Date'] = pd.to_datetime(df1['Date']) "
      ]
    },
    {
      "cell_type": "code",
      "execution_count": 50,
      "metadata": {
        "colab": {
          "base_uri": "https://localhost:8080/"
        },
        "id": "6aG8wKdBIwdc",
        "outputId": "8034a130-84e5-4387-8a65-c2340d4e8365"
      },
      "outputs": [
        {
          "output_type": "execute_result",
          "data": {
            "text/plain": [
              "dtype('<M8[ns]')"
            ]
          },
          "metadata": {},
          "execution_count": 50
        }
      ],
      "source": [
        "df1.Date.dtype"
      ]
    },
    {
      "cell_type": "markdown",
      "metadata": {
        "id": "5cQfqicyi1BK"
      },
      "source": [
        "**Encoding**"
      ]
    },
    {
      "cell_type": "code",
      "execution_count": 51,
      "metadata": {
        "colab": {
          "base_uri": "https://localhost:8080/"
        },
        "id": "fjs4gtI5fZq1",
        "outputId": "a42fa968-4e9c-4121-d0a4-211debd7fe4c"
      },
      "outputs": [
        {
          "output_type": "stream",
          "name": "stdout",
          "text": [
            "                                   Patient-Uid       Date  Incident\n",
            "0         a0db1e73-1c7c-11ec-ae39-16262ee38c7f 2019-03-09         0\n",
            "1         a0dc93f2-1c7c-11ec-9cd2-16262ee38c7f 2015-05-16         0\n",
            "3         a0dc94c6-1c7c-11ec-a3a0-16262ee38c7f 2018-01-30         0\n",
            "4         a0dc950b-1c7c-11ec-b6ec-16262ee38c7f 2015-04-22         0\n",
            "8         a0dc9543-1c7c-11ec-bb63-16262ee38c7f 2016-06-18         0\n",
            "...                                        ...        ...       ...\n",
            "29080886  a0ee9f75-1c7c-11ec-94c7-16262ee38c7f 2018-07-06         0\n",
            "29080897  a0ee1284-1c7c-11ec-a3d5-16262ee38c7f 2017-12-29         0\n",
            "29080900  a0ee9b26-1c7c-11ec-8a40-16262ee38c7f 2018-10-18         0\n",
            "29080903  a0ee1a92-1c7c-11ec-8341-16262ee38c7f 2015-09-18         0\n",
            "29080911  a0ee146e-1c7c-11ec-baee-16262ee38c7f 2018-10-05         0\n",
            "\n",
            "[3185297 rows x 3 columns]\n"
          ]
        }
      ],
      "source": [
        "# Encode 'TARGET DRUG' as 1 and rest as 0\n",
        "df1['Incident'] = df1['Incident'].apply(lambda x: 1 if x == 'TARGET DRUG' else 0)\n",
        "\n",
        "# Print the updated dataset\n",
        "print(df1)\n",
        "\n"
      ]
    },
    {
      "cell_type": "code",
      "execution_count": 52,
      "metadata": {
        "colab": {
          "base_uri": "https://localhost:8080/"
        },
        "id": "wHyqWqUEfgIa",
        "outputId": "41308129-a114-47c5-eb3b-da4fa8f6b39f"
      },
      "outputs": [
        {
          "output_type": "execute_result",
          "data": {
            "text/plain": [
              "array([0, 1])"
            ]
          },
          "metadata": {},
          "execution_count": 52
        }
      ],
      "source": [
        "df1.Incident.unique()"
      ]
    },
    {
      "cell_type": "markdown",
      "metadata": {
        "id": "MkOOEZsdi_sU"
      },
      "source": [
        "**Feature and Target Distribution**"
      ]
    },
    {
      "cell_type": "code",
      "execution_count": 53,
      "metadata": {
        "colab": {
          "base_uri": "https://localhost:8080/",
          "height": 1000
        },
        "id": "TbddghT8aYhR",
        "outputId": "763247f0-ade4-47f0-8d25-458709f024dd"
      },
      "outputs": [
        {
          "output_type": "display_data",
          "data": {
            "text/plain": [
              "<Figure size 1000x600 with 1 Axes>"
            ],
            "image/png": "[encoded data removed]"
          },
          "metadata": {}
        },
        {
          "output_type": "display_data",
          "data": {
            "text/plain": [
              "<Figure size 1000x600 with 1 Axes>"
            ],
            "image/png": "[encoded data removed]"
          },
          "metadata": {}
        },
        {
          "output_type": "display_data",
          "data": {
            "text/plain": [
              "<Figure size 1000x600 with 1 Axes>"
            ],
            "image/png": "[encoded data removed]"
          },
          "metadata": {}
        }
      ],
      "source": [
        "import matplotlib.pyplot as plt\n",
        "import seaborn as sns\n",
        "\n",
        "# Histogram\n",
        "plt.figure(figsize=(10, 6))\n",
        "sns.histplot(data=df1, x='Incident')\n",
        "plt.title('Distribution of Incidents')\n",
        "plt.xlabel('Incident')\n",
        "plt.ylabel('Count')\n",
        "plt.show()\n",
        "\n",
        "# Scatter plot\n",
        "plt.figure(figsize=(10, 6))\n",
        "sns.scatterplot(data=df1, x='Date', y='Incident')\n",
        "plt.title('Relationship between Date and Incident')\n",
        "plt.xlabel('Date')\n",
        "plt.ylabel('Incident')\n",
        "plt.show()\n",
        "\n",
        "# Box plot\n",
        "plt.figure(figsize=(10, 6))\n",
        "sns.boxplot(data=df1, x='Incident', y='Date')\n",
        "plt.title('Distribution of Date across Incidents')\n",
        "plt.xlabel('Incident')\n",
        "plt.ylabel('Date')\n",
        "plt.xticks(rotation=45)\n",
        "plt.show()\n"
      ]
    },
    {
      "cell_type": "code",
      "execution_count": 55,
      "metadata": {
        "colab": {
          "base_uri": "https://localhost:8080/"
        },
        "id": "wtD7zBbIbW4T",
        "outputId": "6bce90e7-9f5f-47c1-f51a-3314626a55d3"
      },
      "outputs": [
        {
          "output_type": "stream",
          "name": "stdout",
          "text": [
            "0    3118079\n",
            "1      67218\n",
            "Name: Incident, dtype: int64\n"
          ]
        }
      ],
      "source": [
        "incident_counts = df1['Incident'].value_counts()\n",
        "print(incident_counts)\n"
      ]
    },
    {
      "cell_type": "code",
      "execution_count": 16,
      "metadata": {
        "id": "YAn8ReQ1cXXt"
      },
      "outputs": [],
      "source": [
        "from sklearn.preprocessing import LabelEncoder\n",
        "\n",
        "encoder = LabelEncoder()\n",
        "df1['Patient-Uid_Encoded'] = encoder.fit_transform(df1['Patient-Uid'])\n",
        "\n"
      ]
    },
    {
      "cell_type": "code",
      "execution_count": 17,
      "metadata": {
        "id": "-y_0Nt9DdBzH"
      },
      "outputs": [],
      "source": [
        "df1.drop('Patient-Uid', axis=1, inplace=True)\n"
      ]
    },
    {
      "cell_type": "code",
      "execution_count": 56,
      "metadata": {
        "colab": {
          "base_uri": "https://localhost:8080/",
          "height": 423
        },
        "id": "7vSqb50Ae6CB",
        "outputId": "6deefe29-d4b2-4a10-9944-2beea03ad40c"
      },
      "outputs": [
        {
          "output_type": "execute_result",
          "data": {
            "text/plain": [
              "                                  Patient_Uid       Date  Incident\n",
              "0        a0db1e73-1c7c-11ec-ae39-16262ee38c7f 2015-09-22         0\n",
              "1        a0db1e73-1c7c-11ec-ae39-16262ee38c7f 2018-04-13         0\n",
              "2        a0db1e73-1c7c-11ec-ae39-16262ee38c7f 2018-05-02         0\n",
              "3        a0db1e73-1c7c-11ec-ae39-16262ee38c7f 2018-11-23         0\n",
              "4        a0db1e73-1c7c-11ec-ae39-16262ee38c7f 2018-11-24         0\n",
              "...                                       ...        ...       ...\n",
              "2341872  a0f0d582-1c7c-11ec-a6c1-16262ee38c7f 2020-06-19         0\n",
              "2341873  a0f0d582-1c7c-11ec-a6c1-16262ee38c7f 2020-07-09         1\n",
              "2341874  a0f0d582-1c7c-11ec-a6c1-16262ee38c7f 2020-07-10         0\n",
              "2341875  a0f0d582-1c7c-11ec-a6c1-16262ee38c7f 2020-08-05         1\n",
              "2341876  a0f0d582-1c7c-11ec-a6c1-16262ee38c7f 2020-08-08         0\n",
              "\n",
              "[2341877 rows x 3 columns]"
            ],
            "text/html": [
              "\n",
              "  <div id=\"df-668fe092-79eb-4e67-9e55-2ee1e164e27c\">\n",
              "    <div class=\"colab-df-container\">\n",
              "      <div>\n",
              "<style scoped>\n",
              "    .dataframe tbody tr th:only-of-type {\n",
              "        vertical-align: middle;\n",
              "    }\n",
              "\n",
              "    .dataframe tbody tr th {\n",
              "        vertical-align: top;\n",
              "    }\n",
              "\n",
              "    .dataframe thead th {\n",
              "        text-align: right;\n",
              "    }\n",
              "</style>\n",
              "<table border=\"1\" class=\"dataframe\">\n",
              "  <thead>\n",
              "    <tr style=\"text-align: right;\">\n",
              "      <th></th>\n",
              "      <th>Patient_Uid</th>\n",
              "      <th>Date</th>\n",
              "      <th>Incident</th>\n",
              "    </tr>\n",
              "  </thead>\n",
              "  <tbody>\n",
              "    <tr>\n",
              "      <th>0</th>\n",
              "      <td>a0db1e73-1c7c-11ec-ae39-16262ee38c7f</td>\n",
              "      <td>2015-09-22</td>\n",
              "      <td>0</td>\n",
              "    </tr>\n",
              "    <tr>\n",
              "      <th>1</th>\n",
              "      <td>a0db1e73-1c7c-11ec-ae39-16262ee38c7f</td>\n",
              "      <td>2018-04-13</td>\n",
              "      <td>0</td>\n",
              "    </tr>\n",
              "    <tr>\n",
              "      <th>2</th>\n",
              "      <td>a0db1e73-1c7c-11ec-ae39-16262ee38c7f</td>\n",
              "      <td>2018-05-02</td>\n",
              "      <td>0</td>\n",
              "    </tr>\n",
              "    <tr>\n",
              "      <th>3</th>\n",
              "      <td>a0db1e73-1c7c-11ec-ae39-16262ee38c7f</td>\n",
              "      <td>2018-11-23</td>\n",
              "      <td>0</td>\n",
              "    </tr>\n",
              "    <tr>\n",
              "      <th>4</th>\n",
              "      <td>a0db1e73-1c7c-11ec-ae39-16262ee38c7f</td>\n",
              "      <td>2018-11-24</td>\n",
              "      <td>0</td>\n",
              "    </tr>\n",
              "    <tr>\n",
              "      <th>...</th>\n",
              "      <td>...</td>\n",
              "      <td>...</td>\n",
              "      <td>...</td>\n",
              "    </tr>\n",
              "    <tr>\n",
              "      <th>2341872</th>\n",
              "      <td>a0f0d582-1c7c-11ec-a6c1-16262ee38c7f</td>\n",
              "      <td>2020-06-19</td>\n",
              "      <td>0</td>\n",
              "    </tr>\n",
              "    <tr>\n",
              "      <th>2341873</th>\n",
              "      <td>a0f0d582-1c7c-11ec-a6c1-16262ee38c7f</td>\n",
              "      <td>2020-07-09</td>\n",
              "      <td>1</td>\n",
              "    </tr>\n",
              "    <tr>\n",
              "      <th>2341874</th>\n",
              "      <td>a0f0d582-1c7c-11ec-a6c1-16262ee38c7f</td>\n",
              "      <td>2020-07-10</td>\n",
              "      <td>0</td>\n",
              "    </tr>\n",
              "    <tr>\n",
              "      <th>2341875</th>\n",
              "      <td>a0f0d582-1c7c-11ec-a6c1-16262ee38c7f</td>\n",
              "      <td>2020-08-05</td>\n",
              "      <td>1</td>\n",
              "    </tr>\n",
              "    <tr>\n",
              "      <th>2341876</th>\n",
              "      <td>a0f0d582-1c7c-11ec-a6c1-16262ee38c7f</td>\n",
              "      <td>2020-08-08</td>\n",
              "      <td>0</td>\n",
              "    </tr>\n",
              "  </tbody>\n",
              "</table>\n",
              "<p>2341877 rows × 3 columns</p>\n",
              "</div>\n",
              "      <button class=\"colab-df-convert\" onclick=\"convertToInteractive('df-668fe092-79eb-4e67-9e55-2ee1e164e27c')\"\n",
              "              title=\"Convert this dataframe to an interactive table.\"\n",
              "              style=\"display:none;\">\n",
              "        \n",
              "  <svg xmlns=\"http://www.w3.org/2000/svg\" height=\"24px\"viewBox=\"0 0 24 24\"\n",
              "       width=\"24px\">\n",
              "    <path d=\"M0 0h24v24H0V0z\" fill=\"none\"/>\n",
              "    <path d=\"M18.56 5.44l.94 2.06.94-2.06 2.06-.94-2.06-.94-.94-2.06-.94 2.06-2.06.94zm-11 1L8.5 8.5l.94-2.06 2.06-.94-2.06-.94L8.5 2.5l-.94 2.06-2.06.94zm10 10l.94 2.06.94-2.06 2.06-.94-2.06-.94-.94-2.06-.94 2.06-2.06.94z\"/><path d=\"M17.41 7.96l-1.37-1.37c-.4-.4-.92-.59-1.43-.59-.52 0-1.04.2-1.43.59L10.3 9.45l-7.72 7.72c-.78.78-.78 2.05 0 2.83L4 21.41c.39.39.9.59 1.41.59.51 0 1.02-.2 1.41-.59l7.78-7.78 2.81-2.81c.8-.78.8-2.07 0-2.86zM5.41 20L4 18.59l7.72-7.72 1.47 1.35L5.41 20z\"/>\n",
              "  </svg>\n",
              "      </button>\n",
              "      \n",
              "  <style>\n",
              "    .colab-df-container {\n",
              "      display:flex;\n",
              "      flex-wrap:wrap;\n",
              "      gap: 12px;\n",
              "    }\n",
              "\n",
              "    .colab-df-convert {\n",
              "      background-color: #E8F0FE;\n",
              "      border: none;\n",
              "      border-radius: 50%;\n",
              "      cursor: pointer;\n",
              "      display: none;\n",
              "      fill: #1967D2;\n",
              "      height: 32px;\n",
              "      padding: 0 0 0 0;\n",
              "      width: 32px;\n",
              "    }\n",
              "\n",
              "    .colab-df-convert:hover {\n",
              "      background-color: #E2EBFA;\n",
              "      box-shadow: 0px 1px 2px rgba(60, 64, 67, 0.3), 0px 1px 3px 1px rgba(60, 64, 67, 0.15);\n",
              "      fill: #174EA6;\n",
              "    }\n",
              "\n",
              "    [theme=dark] .colab-df-convert {\n",
              "      background-color: #3B4455;\n",
              "      fill: #D2E3FC;\n",
              "    }\n",
              "\n",
              "    [theme=dark] .colab-df-convert:hover {\n",
              "      background-color: #434B5C;\n",
              "      box-shadow: 0px 1px 3px 1px rgba(0, 0, 0, 0.15);\n",
              "      filter: drop-shadow(0px 1px 2px rgba(0, 0, 0, 0.3));\n",
              "      fill: #FFFFFF;\n",
              "    }\n",
              "  </style>\n",
              "\n",
              "      <script>\n",
              "        const buttonEl =\n",
              "          document.querySelector('#df-668fe092-79eb-4e67-9e55-2ee1e164e27c button.colab-df-convert');\n",
              "        buttonEl.style.display =\n",
              "          google.colab.kernel.accessAllowed ? 'block' : 'none';\n",
              "\n",
              "        async function convertToInteractive(key) {\n",
              "          const element = document.querySelector('#df-668fe092-79eb-4e67-9e55-2ee1e164e27c');\n",
              "          const dataTable =\n",
              "            await google.colab.kernel.invokeFunction('convertToInteractive',\n",
              "                                                     [key], {});\n",
              "          if (!dataTable) return;\n",
              "\n",
              "          const docLinkHtml = 'Like what you see? Visit the ' +\n",
              "            '<a target=\"_blank\" href=https://colab.research.google.com/notebooks/data_table.ipynb>data table notebook</a>'\n",
              "            + ' to learn more about interactive tables.';\n",
              "          element.innerHTML = '';\n",
              "          dataTable['output_type'] = 'display_data';\n",
              "          await google.colab.output.renderOutput(dataTable, element);\n",
              "          const docLink = document.createElement('div');\n",
              "          docLink.innerHTML = docLinkHtml;\n",
              "          element.appendChild(docLink);\n",
              "        }\n",
              "      </script>\n",
              "    </div>\n",
              "  </div>\n",
              "  "
            ]
          },
          "metadata": {},
          "execution_count": 56
        }
      ],
      "source": [
        "grouped_data = df1.groupby(['Patient-Uid', 'Date']).agg({'Incident': 'sum'}).reset_index()\n",
        "grouped_data = grouped_data.rename(columns={'Patient-Uid':'Patient_Uid'})\n",
        "grouped_data = grouped_data.sort_values(['Patient_Uid', 'Date'], ascending=True)\n",
        "grouped_data"
      ]
    },
    {
      "cell_type": "code",
      "execution_count": 18,
      "metadata": {
        "id": "AiJ1-EMwmeq5"
      },
      "outputs": [],
      "source": []
    },
    {
      "cell_type": "code",
      "execution_count": 57,
      "metadata": {
        "colab": {
          "base_uri": "https://localhost:8080/"
        },
        "id": "bXwEhYF2mOQO",
        "outputId": "681de740-7f88-48ed-cd1f-5ee2a6b69d18"
      },
      "outputs": [
        {
          "output_type": "stream",
          "name": "stdout",
          "text": [
            "                                  Patient_Uid       Date  Incident  \\\n",
            "0        a0db1e73-1c7c-11ec-ae39-16262ee38c7f 2015-09-22         0   \n",
            "1        a0db1e73-1c7c-11ec-ae39-16262ee38c7f 2018-04-13         0   \n",
            "2        a0db1e73-1c7c-11ec-ae39-16262ee38c7f 2018-05-02         0   \n",
            "3        a0db1e73-1c7c-11ec-ae39-16262ee38c7f 2018-11-23         0   \n",
            "4        a0db1e73-1c7c-11ec-ae39-16262ee38c7f 2018-11-24         0   \n",
            "...                                       ...        ...       ...   \n",
            "2341872  a0f0d582-1c7c-11ec-a6c1-16262ee38c7f 2020-06-19         0   \n",
            "2341873  a0f0d582-1c7c-11ec-a6c1-16262ee38c7f 2020-07-09         1   \n",
            "2341874  a0f0d582-1c7c-11ec-a6c1-16262ee38c7f 2020-07-10         0   \n",
            "2341875  a0f0d582-1c7c-11ec-a6c1-16262ee38c7f 2020-08-05         1   \n",
            "2341876  a0f0d582-1c7c-11ec-a6c1-16262ee38c7f 2020-08-08         0   \n",
            "\n",
            "         Eligibility  \n",
            "0                  0  \n",
            "1                  0  \n",
            "2                  0  \n",
            "3                  0  \n",
            "4                  0  \n",
            "...              ...  \n",
            "2341872            0  \n",
            "2341873            1  \n",
            "2341874            0  \n",
            "2341875            1  \n",
            "2341876            0  \n",
            "\n",
            "[2341877 rows x 4 columns]\n"
          ]
        }
      ],
      "source": [
        "grouped_data.sort_values(['Patient_Uid', 'Date'], inplace=True)\n",
        "grouped_data['Eligibility'] = 0\n",
        "\n",
        "for index, row in grouped_data.iterrows():\n",
        "    if row['Incident'] > 0 and grouped_data.at[index, 'Eligibility'] == 0:\n",
        "        grouped_data.at[index, 'Eligibility'] = 1\n",
        "        grouped_data.loc[index+1:, 'Eligibility'] = 0\n",
        "\n",
        "print(grouped_data)\n",
        "\n"
      ]
    },
    {
      "cell_type": "code",
      "execution_count": 20,
      "metadata": {
        "colab": {
          "base_uri": "https://localhost:8080/",
          "height": 423
        },
        "id": "k4ntZVdbfNsE",
        "outputId": "7e350ec4-9274-4c95-bda9-e81cbf9da86d"
      },
      "outputs": [
        {
          "output_type": "execute_result",
          "data": {
            "text/plain": [
              "         Patient_Uid       Date  Eligibility  Incident\n",
              "0                  0 2015-09-22            0         0\n",
              "1                  0 2018-04-13            0         0\n",
              "2                  0 2018-05-02            0         0\n",
              "3                  0 2018-11-23            0         0\n",
              "4                  0 2018-11-24            0         0\n",
              "...              ...        ...          ...       ...\n",
              "2341872        27032 2020-06-19            0         0\n",
              "2341873        27032 2020-07-09            1         1\n",
              "2341874        27032 2020-07-10            0         0\n",
              "2341875        27032 2020-08-05            1         1\n",
              "2341876        27032 2020-08-08            0         0\n",
              "\n",
              "[2341877 rows x 4 columns]"
            ],
            "text/html": [
              "\n",
              "  <div id=\"df-bbff7c59-23e7-4c0c-b848-2aa0629d652d\">\n",
              "    <div class=\"colab-df-container\">\n",
              "      <div>\n",
              "<style scoped>\n",
              "    .dataframe tbody tr th:only-of-type {\n",
              "        vertical-align: middle;\n",
              "    }\n",
              "\n",
              "    .dataframe tbody tr th {\n",
              "        vertical-align: top;\n",
              "    }\n",
              "\n",
              "    .dataframe thead th {\n",
              "        text-align: right;\n",
              "    }\n",
              "</style>\n",
              "<table border=\"1\" class=\"dataframe\">\n",
              "  <thead>\n",
              "    <tr style=\"text-align: right;\">\n",
              "      <th></th>\n",
              "      <th>Patient_Uid</th>\n",
              "      <th>Date</th>\n",
              "      <th>Eligibility</th>\n",
              "      <th>Incident</th>\n",
              "    </tr>\n",
              "  </thead>\n",
              "  <tbody>\n",
              "    <tr>\n",
              "      <th>0</th>\n",
              "      <td>0</td>\n",
              "      <td>2015-09-22</td>\n",
              "      <td>0</td>\n",
              "      <td>0</td>\n",
              "    </tr>\n",
              "    <tr>\n",
              "      <th>1</th>\n",
              "      <td>0</td>\n",
              "      <td>2018-04-13</td>\n",
              "      <td>0</td>\n",
              "      <td>0</td>\n",
              "    </tr>\n",
              "    <tr>\n",
              "      <th>2</th>\n",
              "      <td>0</td>\n",
              "      <td>2018-05-02</td>\n",
              "      <td>0</td>\n",
              "      <td>0</td>\n",
              "    </tr>\n",
              "    <tr>\n",
              "      <th>3</th>\n",
              "      <td>0</td>\n",
              "      <td>2018-11-23</td>\n",
              "      <td>0</td>\n",
              "      <td>0</td>\n",
              "    </tr>\n",
              "    <tr>\n",
              "      <th>4</th>\n",
              "      <td>0</td>\n",
              "      <td>2018-11-24</td>\n",
              "      <td>0</td>\n",
              "      <td>0</td>\n",
              "    </tr>\n",
              "    <tr>\n",
              "      <th>...</th>\n",
              "      <td>...</td>\n",
              "      <td>...</td>\n",
              "      <td>...</td>\n",
              "      <td>...</td>\n",
              "    </tr>\n",
              "    <tr>\n",
              "      <th>2341872</th>\n",
              "      <td>27032</td>\n",
              "      <td>2020-06-19</td>\n",
              "      <td>0</td>\n",
              "      <td>0</td>\n",
              "    </tr>\n",
              "    <tr>\n",
              "      <th>2341873</th>\n",
              "      <td>27032</td>\n",
              "      <td>2020-07-09</td>\n",
              "      <td>1</td>\n",
              "      <td>1</td>\n",
              "    </tr>\n",
              "    <tr>\n",
              "      <th>2341874</th>\n",
              "      <td>27032</td>\n",
              "      <td>2020-07-10</td>\n",
              "      <td>0</td>\n",
              "      <td>0</td>\n",
              "    </tr>\n",
              "    <tr>\n",
              "      <th>2341875</th>\n",
              "      <td>27032</td>\n",
              "      <td>2020-08-05</td>\n",
              "      <td>1</td>\n",
              "      <td>1</td>\n",
              "    </tr>\n",
              "    <tr>\n",
              "      <th>2341876</th>\n",
              "      <td>27032</td>\n",
              "      <td>2020-08-08</td>\n",
              "      <td>0</td>\n",
              "      <td>0</td>\n",
              "    </tr>\n",
              "  </tbody>\n",
              "</table>\n",
              "<p>2341877 rows × 4 columns</p>\n",
              "</div>\n",
              "      <button class=\"colab-df-convert\" onclick=\"convertToInteractive('df-bbff7c59-23e7-4c0c-b848-2aa0629d652d')\"\n",
              "              title=\"Convert this dataframe to an interactive table.\"\n",
              "              style=\"display:none;\">\n",
              "        \n",
              "  <svg xmlns=\"http://www.w3.org/2000/svg\" height=\"24px\"viewBox=\"0 0 24 24\"\n",
              "       width=\"24px\">\n",
              "    <path d=\"M0 0h24v24H0V0z\" fill=\"none\"/>\n",
              "    <path d=\"M18.56 5.44l.94 2.06.94-2.06 2.06-.94-2.06-.94-.94-2.06-.94 2.06-2.06.94zm-11 1L8.5 8.5l.94-2.06 2.06-.94-2.06-.94L8.5 2.5l-.94 2.06-2.06.94zm10 10l.94 2.06.94-2.06 2.06-.94-2.06-.94-.94-2.06-.94 2.06-2.06.94z\"/><path d=\"M17.41 7.96l-1.37-1.37c-.4-.4-.92-.59-1.43-.59-.52 0-1.04.2-1.43.59L10.3 9.45l-7.72 7.72c-.78.78-.78 2.05 0 2.83L4 21.41c.39.39.9.59 1.41.59.51 0 1.02-.2 1.41-.59l7.78-7.78 2.81-2.81c.8-.78.8-2.07 0-2.86zM5.41 20L4 18.59l7.72-7.72 1.47 1.35L5.41 20z\"/>\n",
              "  </svg>\n",
              "      </button>\n",
              "      \n",
              "  <style>\n",
              "    .colab-df-container {\n",
              "      display:flex;\n",
              "      flex-wrap:wrap;\n",
              "      gap: 12px;\n",
              "    }\n",
              "\n",
              "    .colab-df-convert {\n",
              "      background-color: #E8F0FE;\n",
              "      border: none;\n",
              "      border-radius: 50%;\n",
              "      cursor: pointer;\n",
              "      display: none;\n",
              "      fill: #1967D2;\n",
              "      height: 32px;\n",
              "      padding: 0 0 0 0;\n",
              "      width: 32px;\n",
              "    }\n",
              "\n",
              "    .colab-df-convert:hover {\n",
              "      background-color: #E2EBFA;\n",
              "      box-shadow: 0px 1px 2px rgba(60, 64, 67, 0.3), 0px 1px 3px 1px rgba(60, 64, 67, 0.15);\n",
              "      fill: #174EA6;\n",
              "    }\n",
              "\n",
              "    [theme=dark] .colab-df-convert {\n",
              "      background-color: #3B4455;\n",
              "      fill: #D2E3FC;\n",
              "    }\n",
              "\n",
              "    [theme=dark] .colab-df-convert:hover {\n",
              "      background-color: #434B5C;\n",
              "      box-shadow: 0px 1px 3px 1px rgba(0, 0, 0, 0.15);\n",
              "      filter: drop-shadow(0px 1px 2px rgba(0, 0, 0, 0.3));\n",
              "      fill: #FFFFFF;\n",
              "    }\n",
              "  </style>\n",
              "\n",
              "      <script>\n",
              "        const buttonEl =\n",
              "          document.querySelector('#df-bbff7c59-23e7-4c0c-b848-2aa0629d652d button.colab-df-convert');\n",
              "        buttonEl.style.display =\n",
              "          google.colab.kernel.accessAllowed ? 'block' : 'none';\n",
              "\n",
              "        async function convertToInteractive(key) {\n",
              "          const element = document.querySelector('#df-bbff7c59-23e7-4c0c-b848-2aa0629d652d');\n",
              "          const dataTable =\n",
              "            await google.colab.kernel.invokeFunction('convertToInteractive',\n",
              "                                                     [key], {});\n",
              "          if (!dataTable) return;\n",
              "\n",
              "          const docLinkHtml = 'Like what you see? Visit the ' +\n",
              "            '<a target=\"_blank\" href=https://colab.research.google.com/notebooks/data_table.ipynb>data table notebook</a>'\n",
              "            + ' to learn more about interactive tables.';\n",
              "          element.innerHTML = '';\n",
              "          dataTable['output_type'] = 'display_data';\n",
              "          await google.colab.output.renderOutput(dataTable, element);\n",
              "          const docLink = document.createElement('div');\n",
              "          docLink.innerHTML = docLinkHtml;\n",
              "          element.appendChild(docLink);\n",
              "        }\n",
              "      </script>\n",
              "    </div>\n",
              "  </div>\n",
              "  "
            ]
          },
          "metadata": {},
          "execution_count": 20
        }
      ],
      "source": [
        "grouped_data = grouped_data[['Patient_Uid', 'Date', 'Eligibility', 'Incident']]\n",
        "grouped_data"
      ]
    },
    {
      "cell_type": "markdown",
      "metadata": {
        "id": "jGFbPbr0rELR"
      },
      "source": [
        "**This feature indicates how many times the patient has become eligible for the drug before the current record.**"
      ]
    },
    {
      "cell_type": "code",
      "execution_count": 58,
      "metadata": {
        "colab": {
          "base_uri": "https://localhost:8080/",
          "height": 423
        },
        "id": "ocVY38u2q8KO",
        "outputId": "ae400447-e77b-441d-dcf4-635240ad59c8"
      },
      "outputs": [
        {
          "output_type": "execute_result",
          "data": {
            "text/plain": [
              "                                  Patient_Uid       Date  Incident  \\\n",
              "0        a0db1e73-1c7c-11ec-ae39-16262ee38c7f 2015-09-22         0   \n",
              "1        a0db1e73-1c7c-11ec-ae39-16262ee38c7f 2018-04-13         0   \n",
              "2        a0db1e73-1c7c-11ec-ae39-16262ee38c7f 2018-05-02         0   \n",
              "3        a0db1e73-1c7c-11ec-ae39-16262ee38c7f 2018-11-23         0   \n",
              "4        a0db1e73-1c7c-11ec-ae39-16262ee38c7f 2018-11-24         0   \n",
              "...                                       ...        ...       ...   \n",
              "2341872  a0f0d582-1c7c-11ec-a6c1-16262ee38c7f 2020-06-19         0   \n",
              "2341873  a0f0d582-1c7c-11ec-a6c1-16262ee38c7f 2020-07-09         1   \n",
              "2341874  a0f0d582-1c7c-11ec-a6c1-16262ee38c7f 2020-07-10         0   \n",
              "2341875  a0f0d582-1c7c-11ec-a6c1-16262ee38c7f 2020-08-05         1   \n",
              "2341876  a0f0d582-1c7c-11ec-a6c1-16262ee38c7f 2020-08-08         0   \n",
              "\n",
              "         Eligibility  Num_Previous_Occurrences  \n",
              "0                  0                         0  \n",
              "1                  0                         0  \n",
              "2                  0                         0  \n",
              "3                  0                         0  \n",
              "4                  0                         0  \n",
              "...              ...                       ...  \n",
              "2341872            0                         1  \n",
              "2341873            1                         1  \n",
              "2341874            0                         2  \n",
              "2341875            1                         2  \n",
              "2341876            0                         3  \n",
              "\n",
              "[2341877 rows x 5 columns]"
            ],
            "text/html": [
              "\n",
              "  <div id=\"df-a06baf20-7220-491e-8ba8-ab50f6744117\">\n",
              "    <div class=\"colab-df-container\">\n",
              "      <div>\n",
              "<style scoped>\n",
              "    .dataframe tbody tr th:only-of-type {\n",
              "        vertical-align: middle;\n",
              "    }\n",
              "\n",
              "    .dataframe tbody tr th {\n",
              "        vertical-align: top;\n",
              "    }\n",
              "\n",
              "    .dataframe thead th {\n",
              "        text-align: right;\n",
              "    }\n",
              "</style>\n",
              "<table border=\"1\" class=\"dataframe\">\n",
              "  <thead>\n",
              "    <tr style=\"text-align: right;\">\n",
              "      <th></th>\n",
              "      <th>Patient_Uid</th>\n",
              "      <th>Date</th>\n",
              "      <th>Incident</th>\n",
              "      <th>Eligibility</th>\n",
              "      <th>Num_Previous_Occurrences</th>\n",
              "    </tr>\n",
              "  </thead>\n",
              "  <tbody>\n",
              "    <tr>\n",
              "      <th>0</th>\n",
              "      <td>a0db1e73-1c7c-11ec-ae39-16262ee38c7f</td>\n",
              "      <td>2015-09-22</td>\n",
              "      <td>0</td>\n",
              "      <td>0</td>\n",
              "      <td>0</td>\n",
              "    </tr>\n",
              "    <tr>\n",
              "      <th>1</th>\n",
              "      <td>a0db1e73-1c7c-11ec-ae39-16262ee38c7f</td>\n",
              "      <td>2018-04-13</td>\n",
              "      <td>0</td>\n",
              "      <td>0</td>\n",
              "      <td>0</td>\n",
              "    </tr>\n",
              "    <tr>\n",
              "      <th>2</th>\n",
              "      <td>a0db1e73-1c7c-11ec-ae39-16262ee38c7f</td>\n",
              "      <td>2018-05-02</td>\n",
              "      <td>0</td>\n",
              "      <td>0</td>\n",
              "      <td>0</td>\n",
              "    </tr>\n",
              "    <tr>\n",
              "      <th>3</th>\n",
              "      <td>a0db1e73-1c7c-11ec-ae39-16262ee38c7f</td>\n",
              "      <td>2018-11-23</td>\n",
              "      <td>0</td>\n",
              "      <td>0</td>\n",
              "      <td>0</td>\n",
              "    </tr>\n",
              "    <tr>\n",
              "      <th>4</th>\n",
              "      <td>a0db1e73-1c7c-11ec-ae39-16262ee38c7f</td>\n",
              "      <td>2018-11-24</td>\n",
              "      <td>0</td>\n",
              "      <td>0</td>\n",
              "      <td>0</td>\n",
              "    </tr>\n",
              "    <tr>\n",
              "      <th>...</th>\n",
              "      <td>...</td>\n",
              "      <td>...</td>\n",
              "      <td>...</td>\n",
              "      <td>...</td>\n",
              "      <td>...</td>\n",
              "    </tr>\n",
              "    <tr>\n",
              "      <th>2341872</th>\n",
              "      <td>a0f0d582-1c7c-11ec-a6c1-16262ee38c7f</td>\n",
              "      <td>2020-06-19</td>\n",
              "      <td>0</td>\n",
              "      <td>0</td>\n",
              "      <td>1</td>\n",
              "    </tr>\n",
              "    <tr>\n",
              "      <th>2341873</th>\n",
              "      <td>a0f0d582-1c7c-11ec-a6c1-16262ee38c7f</td>\n",
              "      <td>2020-07-09</td>\n",
              "      <td>1</td>\n",
              "      <td>1</td>\n",
              "      <td>1</td>\n",
              "    </tr>\n",
              "    <tr>\n",
              "      <th>2341874</th>\n",
              "      <td>a0f0d582-1c7c-11ec-a6c1-16262ee38c7f</td>\n",
              "      <td>2020-07-10</td>\n",
              "      <td>0</td>\n",
              "      <td>0</td>\n",
              "      <td>2</td>\n",
              "    </tr>\n",
              "    <tr>\n",
              "      <th>2341875</th>\n",
              "      <td>a0f0d582-1c7c-11ec-a6c1-16262ee38c7f</td>\n",
              "      <td>2020-08-05</td>\n",
              "      <td>1</td>\n",
              "      <td>1</td>\n",
              "      <td>2</td>\n",
              "    </tr>\n",
              "    <tr>\n",
              "      <th>2341876</th>\n",
              "      <td>a0f0d582-1c7c-11ec-a6c1-16262ee38c7f</td>\n",
              "      <td>2020-08-08</td>\n",
              "      <td>0</td>\n",
              "      <td>0</td>\n",
              "      <td>3</td>\n",
              "    </tr>\n",
              "  </tbody>\n",
              "</table>\n",
              "<p>2341877 rows × 5 columns</p>\n",
              "</div>\n",
              "      <button class=\"colab-df-convert\" onclick=\"convertToInteractive('df-a06baf20-7220-491e-8ba8-ab50f6744117')\"\n",
              "              title=\"Convert this dataframe to an interactive table.\"\n",
              "              style=\"display:none;\">\n",
              "        \n",
              "  <svg xmlns=\"http://www.w3.org/2000/svg\" height=\"24px\"viewBox=\"0 0 24 24\"\n",
              "       width=\"24px\">\n",
              "    <path d=\"M0 0h24v24H0V0z\" fill=\"none\"/>\n",
              "    <path d=\"M18.56 5.44l.94 2.06.94-2.06 2.06-.94-2.06-.94-.94-2.06-.94 2.06-2.06.94zm-11 1L8.5 8.5l.94-2.06 2.06-.94-2.06-.94L8.5 2.5l-.94 2.06-2.06.94zm10 10l.94 2.06.94-2.06 2.06-.94-2.06-.94-.94-2.06-.94 2.06-2.06.94z\"/><path d=\"M17.41 7.96l-1.37-1.37c-.4-.4-.92-.59-1.43-.59-.52 0-1.04.2-1.43.59L10.3 9.45l-7.72 7.72c-.78.78-.78 2.05 0 2.83L4 21.41c.39.39.9.59 1.41.59.51 0 1.02-.2 1.41-.59l7.78-7.78 2.81-2.81c.8-.78.8-2.07 0-2.86zM5.41 20L4 18.59l7.72-7.72 1.47 1.35L5.41 20z\"/>\n",
              "  </svg>\n",
              "      </button>\n",
              "      \n",
              "  <style>\n",
              "    .colab-df-container {\n",
              "      display:flex;\n",
              "      flex-wrap:wrap;\n",
              "      gap: 12px;\n",
              "    }\n",
              "\n",
              "    .colab-df-convert {\n",
              "      background-color: #E8F0FE;\n",
              "      border: none;\n",
              "      border-radius: 50%;\n",
              "      cursor: pointer;\n",
              "      display: none;\n",
              "      fill: #1967D2;\n",
              "      height: 32px;\n",
              "      padding: 0 0 0 0;\n",
              "      width: 32px;\n",
              "    }\n",
              "\n",
              "    .colab-df-convert:hover {\n",
              "      background-color: #E2EBFA;\n",
              "      box-shadow: 0px 1px 2px rgba(60, 64, 67, 0.3), 0px 1px 3px 1px rgba(60, 64, 67, 0.15);\n",
              "      fill: #174EA6;\n",
              "    }\n",
              "\n",
              "    [theme=dark] .colab-df-convert {\n",
              "      background-color: #3B4455;\n",
              "      fill: #D2E3FC;\n",
              "    }\n",
              "\n",
              "    [theme=dark] .colab-df-convert:hover {\n",
              "      background-color: #434B5C;\n",
              "      box-shadow: 0px 1px 3px 1px rgba(0, 0, 0, 0.15);\n",
              "      filter: drop-shadow(0px 1px 2px rgba(0, 0, 0, 0.3));\n",
              "      fill: #FFFFFF;\n",
              "    }\n",
              "  </style>\n",
              "\n",
              "      <script>\n",
              "        const buttonEl =\n",
              "          document.querySelector('#df-a06baf20-7220-491e-8ba8-ab50f6744117 button.colab-df-convert');\n",
              "        buttonEl.style.display =\n",
              "          google.colab.kernel.accessAllowed ? 'block' : 'none';\n",
              "\n",
              "        async function convertToInteractive(key) {\n",
              "          const element = document.querySelector('#df-a06baf20-7220-491e-8ba8-ab50f6744117');\n",
              "          const dataTable =\n",
              "            await google.colab.kernel.invokeFunction('convertToInteractive',\n",
              "                                                     [key], {});\n",
              "          if (!dataTable) return;\n",
              "\n",
              "          const docLinkHtml = 'Like what you see? Visit the ' +\n",
              "            '<a target=\"_blank\" href=https://colab.research.google.com/notebooks/data_table.ipynb>data table notebook</a>'\n",
              "            + ' to learn more about interactive tables.';\n",
              "          element.innerHTML = '';\n",
              "          dataTable['output_type'] = 'display_data';\n",
              "          await google.colab.output.renderOutput(dataTable, element);\n",
              "          const docLink = document.createElement('div');\n",
              "          docLink.innerHTML = docLinkHtml;\n",
              "          element.appendChild(docLink);\n",
              "        }\n",
              "      </script>\n",
              "    </div>\n",
              "  </div>\n",
              "  "
            ]
          },
          "metadata": {},
          "execution_count": 58
        }
      ],
      "source": [
        "grouped_data['Num_Previous_Occurrences'] = grouped_data.groupby('Patient_Uid')['Eligibility'].cumsum().shift(fill_value=0)\n",
        "grouped_data"
      ]
    },
    {
      "cell_type": "markdown",
      "metadata": {
        "id": "5VXacStsrWIv"
      },
      "source": [
        "**This feature captures the duration since the patient last became eligible for the drug.**"
      ]
    },
    {
      "cell_type": "code",
      "execution_count": 59,
      "metadata": {
        "colab": {
          "base_uri": "https://localhost:8080/",
          "height": 423
        },
        "id": "iRI6WZH9rKfo",
        "outputId": "06e6bee4-3fdc-449a-e227-e3608b66cbc0"
      },
      "outputs": [
        {
          "output_type": "execute_result",
          "data": {
            "text/plain": [
              "                                  Patient_Uid       Date  Incident  \\\n",
              "0        a0db1e73-1c7c-11ec-ae39-16262ee38c7f 2015-09-22         0   \n",
              "1        a0db1e73-1c7c-11ec-ae39-16262ee38c7f 2018-04-13         0   \n",
              "2        a0db1e73-1c7c-11ec-ae39-16262ee38c7f 2018-05-02         0   \n",
              "3        a0db1e73-1c7c-11ec-ae39-16262ee38c7f 2018-11-23         0   \n",
              "4        a0db1e73-1c7c-11ec-ae39-16262ee38c7f 2018-11-24         0   \n",
              "...                                       ...        ...       ...   \n",
              "2341872  a0f0d582-1c7c-11ec-a6c1-16262ee38c7f 2020-06-19         0   \n",
              "2341873  a0f0d582-1c7c-11ec-a6c1-16262ee38c7f 2020-07-09         1   \n",
              "2341874  a0f0d582-1c7c-11ec-a6c1-16262ee38c7f 2020-07-10         0   \n",
              "2341875  a0f0d582-1c7c-11ec-a6c1-16262ee38c7f 2020-08-05         1   \n",
              "2341876  a0f0d582-1c7c-11ec-a6c1-16262ee38c7f 2020-08-08         0   \n",
              "\n",
              "         Eligibility  Num_Previous_Occurrences  Time_Since_Last_Occurrence  \n",
              "0                  0                         0                         0.0  \n",
              "1                  0                         0                         NaN  \n",
              "2                  0                         0                       934.0  \n",
              "3                  0                         0                        19.0  \n",
              "4                  0                         0                       205.0  \n",
              "...              ...                       ...                         ...  \n",
              "2341872            0                         1                        13.0  \n",
              "2341873            1                         1                         1.0  \n",
              "2341874            0                         2                        20.0  \n",
              "2341875            1                         2                         1.0  \n",
              "2341876            0                         3                        26.0  \n",
              "\n",
              "[2341877 rows x 6 columns]"
            ],
            "text/html": [
              "\n",
              "  <div id=\"df-b3e9522e-34d4-4cb7-9947-c5120eff39ae\">\n",
              "    <div class=\"colab-df-container\">\n",
              "      <div>\n",
              "<style scoped>\n",
              "    .dataframe tbody tr th:only-of-type {\n",
              "        vertical-align: middle;\n",
              "    }\n",
              "\n",
              "    .dataframe tbody tr th {\n",
              "        vertical-align: top;\n",
              "    }\n",
              "\n",
              "    .dataframe thead th {\n",
              "        text-align: right;\n",
              "    }\n",
              "</style>\n",
              "<table border=\"1\" class=\"dataframe\">\n",
              "  <thead>\n",
              "    <tr style=\"text-align: right;\">\n",
              "      <th></th>\n",
              "      <th>Patient_Uid</th>\n",
              "      <th>Date</th>\n",
              "      <th>Incident</th>\n",
              "      <th>Eligibility</th>\n",
              "      <th>Num_Previous_Occurrences</th>\n",
              "      <th>Time_Since_Last_Occurrence</th>\n",
              "    </tr>\n",
              "  </thead>\n",
              "  <tbody>\n",
              "    <tr>\n",
              "      <th>0</th>\n",
              "      <td>a0db1e73-1c7c-11ec-ae39-16262ee38c7f</td>\n",
              "      <td>2015-09-22</td>\n",
              "      <td>0</td>\n",
              "      <td>0</td>\n",
              "      <td>0</td>\n",
              "      <td>0.0</td>\n",
              "    </tr>\n",
              "    <tr>\n",
              "      <th>1</th>\n",
              "      <td>a0db1e73-1c7c-11ec-ae39-16262ee38c7f</td>\n",
              "      <td>2018-04-13</td>\n",
              "      <td>0</td>\n",
              "      <td>0</td>\n",
              "      <td>0</td>\n",
              "      <td>NaN</td>\n",
              "    </tr>\n",
              "    <tr>\n",
              "      <th>2</th>\n",
              "      <td>a0db1e73-1c7c-11ec-ae39-16262ee38c7f</td>\n",
              "      <td>2018-05-02</td>\n",
              "      <td>0</td>\n",
              "      <td>0</td>\n",
              "      <td>0</td>\n",
              "      <td>934.0</td>\n",
              "    </tr>\n",
              "    <tr>\n",
              "      <th>3</th>\n",
              "      <td>a0db1e73-1c7c-11ec-ae39-16262ee38c7f</td>\n",
              "      <td>2018-11-23</td>\n",
              "      <td>0</td>\n",
              "      <td>0</td>\n",
              "      <td>0</td>\n",
              "      <td>19.0</td>\n",
              "    </tr>\n",
              "    <tr>\n",
              "      <th>4</th>\n",
              "      <td>a0db1e73-1c7c-11ec-ae39-16262ee38c7f</td>\n",
              "      <td>2018-11-24</td>\n",
              "      <td>0</td>\n",
              "      <td>0</td>\n",
              "      <td>0</td>\n",
              "      <td>205.0</td>\n",
              "    </tr>\n",
              "    <tr>\n",
              "      <th>...</th>\n",
              "      <td>...</td>\n",
              "      <td>...</td>\n",
              "      <td>...</td>\n",
              "      <td>...</td>\n",
              "      <td>...</td>\n",
              "      <td>...</td>\n",
              "    </tr>\n",
              "    <tr>\n",
              "      <th>2341872</th>\n",
              "      <td>a0f0d582-1c7c-11ec-a6c1-16262ee38c7f</td>\n",
              "      <td>2020-06-19</td>\n",
              "      <td>0</td>\n",
              "      <td>0</td>\n",
              "      <td>1</td>\n",
              "      <td>13.0</td>\n",
              "    </tr>\n",
              "    <tr>\n",
              "      <th>2341873</th>\n",
              "      <td>a0f0d582-1c7c-11ec-a6c1-16262ee38c7f</td>\n",
              "      <td>2020-07-09</td>\n",
              "      <td>1</td>\n",
              "      <td>1</td>\n",
              "      <td>1</td>\n",
              "      <td>1.0</td>\n",
              "    </tr>\n",
              "    <tr>\n",
              "      <th>2341874</th>\n",
              "      <td>a0f0d582-1c7c-11ec-a6c1-16262ee38c7f</td>\n",
              "      <td>2020-07-10</td>\n",
              "      <td>0</td>\n",
              "      <td>0</td>\n",
              "      <td>2</td>\n",
              "      <td>20.0</td>\n",
              "    </tr>\n",
              "    <tr>\n",
              "      <th>2341875</th>\n",
              "      <td>a0f0d582-1c7c-11ec-a6c1-16262ee38c7f</td>\n",
              "      <td>2020-08-05</td>\n",
              "      <td>1</td>\n",
              "      <td>1</td>\n",
              "      <td>2</td>\n",
              "      <td>1.0</td>\n",
              "    </tr>\n",
              "    <tr>\n",
              "      <th>2341876</th>\n",
              "      <td>a0f0d582-1c7c-11ec-a6c1-16262ee38c7f</td>\n",
              "      <td>2020-08-08</td>\n",
              "      <td>0</td>\n",
              "      <td>0</td>\n",
              "      <td>3</td>\n",
              "      <td>26.0</td>\n",
              "    </tr>\n",
              "  </tbody>\n",
              "</table>\n",
              "<p>2341877 rows × 6 columns</p>\n",
              "</div>\n",
              "      <button class=\"colab-df-convert\" onclick=\"convertToInteractive('df-b3e9522e-34d4-4cb7-9947-c5120eff39ae')\"\n",
              "              title=\"Convert this dataframe to an interactive table.\"\n",
              "              style=\"display:none;\">\n",
              "        \n",
              "  <svg xmlns=\"http://www.w3.org/2000/svg\" height=\"24px\"viewBox=\"0 0 24 24\"\n",
              "       width=\"24px\">\n",
              "    <path d=\"M0 0h24v24H0V0z\" fill=\"none\"/>\n",
              "    <path d=\"M18.56 5.44l.94 2.06.94-2.06 2.06-.94-2.06-.94-.94-2.06-.94 2.06-2.06.94zm-11 1L8.5 8.5l.94-2.06 2.06-.94-2.06-.94L8.5 2.5l-.94 2.06-2.06.94zm10 10l.94 2.06.94-2.06 2.06-.94-2.06-.94-.94-2.06-.94 2.06-2.06.94z\"/><path d=\"M17.41 7.96l-1.37-1.37c-.4-.4-.92-.59-1.43-.59-.52 0-1.04.2-1.43.59L10.3 9.45l-7.72 7.72c-.78.78-.78 2.05 0 2.83L4 21.41c.39.39.9.59 1.41.59.51 0 1.02-.2 1.41-.59l7.78-7.78 2.81-2.81c.8-.78.8-2.07 0-2.86zM5.41 20L4 18.59l7.72-7.72 1.47 1.35L5.41 20z\"/>\n",
              "  </svg>\n",
              "      </button>\n",
              "      \n",
              "  <style>\n",
              "    .colab-df-container {\n",
              "      display:flex;\n",
              "      flex-wrap:wrap;\n",
              "      gap: 12px;\n",
              "    }\n",
              "\n",
              "    .colab-df-convert {\n",
              "      background-color: #E8F0FE;\n",
              "      border: none;\n",
              "      border-radius: 50%;\n",
              "      cursor: pointer;\n",
              "      display: none;\n",
              "      fill: #1967D2;\n",
              "      height: 32px;\n",
              "      padding: 0 0 0 0;\n",
              "      width: 32px;\n",
              "    }\n",
              "\n",
              "    .colab-df-convert:hover {\n",
              "      background-color: #E2EBFA;\n",
              "      box-shadow: 0px 1px 2px rgba(60, 64, 67, 0.3), 0px 1px 3px 1px rgba(60, 64, 67, 0.15);\n",
              "      fill: #174EA6;\n",
              "    }\n",
              "\n",
              "    [theme=dark] .colab-df-convert {\n",
              "      background-color: #3B4455;\n",
              "      fill: #D2E3FC;\n",
              "    }\n",
              "\n",
              "    [theme=dark] .colab-df-convert:hover {\n",
              "      background-color: #434B5C;\n",
              "      box-shadow: 0px 1px 3px 1px rgba(0, 0, 0, 0.15);\n",
              "      filter: drop-shadow(0px 1px 2px rgba(0, 0, 0, 0.3));\n",
              "      fill: #FFFFFF;\n",
              "    }\n",
              "  </style>\n",
              "\n",
              "      <script>\n",
              "        const buttonEl =\n",
              "          document.querySelector('#df-b3e9522e-34d4-4cb7-9947-c5120eff39ae button.colab-df-convert');\n",
              "        buttonEl.style.display =\n",
              "          google.colab.kernel.accessAllowed ? 'block' : 'none';\n",
              "\n",
              "        async function convertToInteractive(key) {\n",
              "          const element = document.querySelector('#df-b3e9522e-34d4-4cb7-9947-c5120eff39ae');\n",
              "          const dataTable =\n",
              "            await google.colab.kernel.invokeFunction('convertToInteractive',\n",
              "                                                     [key], {});\n",
              "          if (!dataTable) return;\n",
              "\n",
              "          const docLinkHtml = 'Like what you see? Visit the ' +\n",
              "            '<a target=\"_blank\" href=https://colab.research.google.com/notebooks/data_table.ipynb>data table notebook</a>'\n",
              "            + ' to learn more about interactive tables.';\n",
              "          element.innerHTML = '';\n",
              "          dataTable['output_type'] = 'display_data';\n",
              "          await google.colab.output.renderOutput(dataTable, element);\n",
              "          const docLink = document.createElement('div');\n",
              "          docLink.innerHTML = docLinkHtml;\n",
              "          element.appendChild(docLink);\n",
              "        }\n",
              "      </script>\n",
              "    </div>\n",
              "  </div>\n",
              "  "
            ]
          },
          "metadata": {},
          "execution_count": 59
        }
      ],
      "source": [
        "grouped_data['Time_Since_Last_Occurrence'] = grouped_data.groupby('Patient_Uid')['Date'].diff().dt.days.shift(fill_value=0)\n",
        "grouped_data"
      ]
    },
    {
      "cell_type": "code",
      "execution_count": 60,
      "metadata": {
        "colab": {
          "base_uri": "https://localhost:8080/",
          "height": 814
        },
        "id": "WCV5SEKedKmK",
        "outputId": "d949f7a0-7483-4b6f-e560-65891dc32f85"
      },
      "outputs": [
        {
          "output_type": "execute_result",
          "data": {
            "text/plain": [
              "                                  Patient_Uid       Date  Incident  \\\n",
              "0        a0db1e73-1c7c-11ec-ae39-16262ee38c7f 2015-09-22         0   \n",
              "1        a0db1e73-1c7c-11ec-ae39-16262ee38c7f 2018-04-13         0   \n",
              "2        a0db1e73-1c7c-11ec-ae39-16262ee38c7f 2018-05-02         0   \n",
              "3        a0db1e73-1c7c-11ec-ae39-16262ee38c7f 2018-11-23         0   \n",
              "4        a0db1e73-1c7c-11ec-ae39-16262ee38c7f 2018-11-24         0   \n",
              "...                                       ...        ...       ...   \n",
              "2341872  a0f0d582-1c7c-11ec-a6c1-16262ee38c7f 2020-06-19         0   \n",
              "2341873  a0f0d582-1c7c-11ec-a6c1-16262ee38c7f 2020-07-09         1   \n",
              "2341874  a0f0d582-1c7c-11ec-a6c1-16262ee38c7f 2020-07-10         0   \n",
              "2341875  a0f0d582-1c7c-11ec-a6c1-16262ee38c7f 2020-08-05         1   \n",
              "2341876  a0f0d582-1c7c-11ec-a6c1-16262ee38c7f 2020-08-08         0   \n",
              "\n",
              "         Eligibility  Num_Previous_Occurrences  Time_Since_Last_Occurrence  \\\n",
              "0                  0                         0                         0.0   \n",
              "1                  0                         0                         NaN   \n",
              "2                  0                         0                       934.0   \n",
              "3                  0                         0                        19.0   \n",
              "4                  0                         0                       205.0   \n",
              "...              ...                       ...                         ...   \n",
              "2341872            0                         1                        13.0   \n",
              "2341873            1                         1                         1.0   \n",
              "2341874            0                         2                        20.0   \n",
              "2341875            1                         2                         1.0   \n",
              "2341876            0                         3                        26.0   \n",
              "\n",
              "         Month  DayOfWeek  Quarter  \n",
              "0            9          1        3  \n",
              "1            4          4        2  \n",
              "2            5          2        2  \n",
              "3           11          4        4  \n",
              "4           11          5        4  \n",
              "...        ...        ...      ...  \n",
              "2341872      6          4        2  \n",
              "2341873      7          3        3  \n",
              "2341874      7          4        3  \n",
              "2341875      8          2        3  \n",
              "2341876      8          5        3  \n",
              "\n",
              "[2341877 rows x 9 columns]"
            ],
            "text/html": [
              "\n",
              "  <div id=\"df-94fbafce-1d0e-4bf8-b631-3f3bbc56d0f0\">\n",
              "    <div class=\"colab-df-container\">\n",
              "      <div>\n",
              "<style scoped>\n",
              "    .dataframe tbody tr th:only-of-type {\n",
              "        vertical-align: middle;\n",
              "    }\n",
              "\n",
              "    .dataframe tbody tr th {\n",
              "        vertical-align: top;\n",
              "    }\n",
              "\n",
              "    .dataframe thead th {\n",
              "        text-align: right;\n",
              "    }\n",
              "</style>\n",
              "<table border=\"1\" class=\"dataframe\">\n",
              "  <thead>\n",
              "    <tr style=\"text-align: right;\">\n",
              "      <th></th>\n",
              "      <th>Patient_Uid</th>\n",
              "      <th>Date</th>\n",
              "      <th>Incident</th>\n",
              "      <th>Eligibility</th>\n",
              "      <th>Num_Previous_Occurrences</th>\n",
              "      <th>Time_Since_Last_Occurrence</th>\n",
              "      <th>Month</th>\n",
              "      <th>DayOfWeek</th>\n",
              "      <th>Quarter</th>\n",
              "    </tr>\n",
              "  </thead>\n",
              "  <tbody>\n",
              "    <tr>\n",
              "      <th>0</th>\n",
              "      <td>a0db1e73-1c7c-11ec-ae39-16262ee38c7f</td>\n",
              "      <td>2015-09-22</td>\n",
              "      <td>0</td>\n",
              "      <td>0</td>\n",
              "      <td>0</td>\n",
              "      <td>0.0</td>\n",
              "      <td>9</td>\n",
              "      <td>1</td>\n",
              "      <td>3</td>\n",
              "    </tr>\n",
              "    <tr>\n",
              "      <th>1</th>\n",
              "      <td>a0db1e73-1c7c-11ec-ae39-16262ee38c7f</td>\n",
              "      <td>2018-04-13</td>\n",
              "      <td>0</td>\n",
              "      <td>0</td>\n",
              "      <td>0</td>\n",
              "      <td>NaN</td>\n",
              "      <td>4</td>\n",
              "      <td>4</td>\n",
              "      <td>2</td>\n",
              "    </tr>\n",
              "    <tr>\n",
              "      <th>2</th>\n",
              "      <td>a0db1e73-1c7c-11ec-ae39-16262ee38c7f</td>\n",
              "      <td>2018-05-02</td>\n",
              "      <td>0</td>\n",
              "      <td>0</td>\n",
              "      <td>0</td>\n",
              "      <td>934.0</td>\n",
              "      <td>5</td>\n",
              "      <td>2</td>\n",
              "      <td>2</td>\n",
              "    </tr>\n",
              "    <tr>\n",
              "      <th>3</th>\n",
              "      <td>a0db1e73-1c7c-11ec-ae39-16262ee38c7f</td>\n",
              "      <td>2018-11-23</td>\n",
              "      <td>0</td>\n",
              "      <td>0</td>\n",
              "      <td>0</td>\n",
              "      <td>19.0</td>\n",
              "      <td>11</td>\n",
              "      <td>4</td>\n",
              "      <td>4</td>\n",
              "    </tr>\n",
              "    <tr>\n",
              "      <th>4</th>\n",
              "      <td>a0db1e73-1c7c-11ec-ae39-16262ee38c7f</td>\n",
              "      <td>2018-11-24</td>\n",
              "      <td>0</td>\n",
              "      <td>0</td>\n",
              "      <td>0</td>\n",
              "      <td>205.0</td>\n",
              "      <td>11</td>\n",
              "      <td>5</td>\n",
              "      <td>4</td>\n",
              "    </tr>\n",
              "    <tr>\n",
              "      <th>...</th>\n",
              "      <td>...</td>\n",
              "      <td>...</td>\n",
              "      <td>...</td>\n",
              "      <td>...</td>\n",
              "      <td>...</td>\n",
              "      <td>...</td>\n",
              "      <td>...</td>\n",
              "      <td>...</td>\n",
              "      <td>...</td>\n",
              "    </tr>\n",
              "    <tr>\n",
              "      <th>2341872</th>\n",
              "      <td>a0f0d582-1c7c-11ec-a6c1-16262ee38c7f</td>\n",
              "      <td>2020-06-19</td>\n",
              "      <td>0</td>\n",
              "      <td>0</td>\n",
              "      <td>1</td>\n",
              "      <td>13.0</td>\n",
              "      <td>6</td>\n",
              "      <td>4</td>\n",
              "      <td>2</td>\n",
              "    </tr>\n",
              "    <tr>\n",
              "      <th>2341873</th>\n",
              "      <td>a0f0d582-1c7c-11ec-a6c1-16262ee38c7f</td>\n",
              "      <td>2020-07-09</td>\n",
              "      <td>1</td>\n",
              "      <td>1</td>\n",
              "      <td>1</td>\n",
              "      <td>1.0</td>\n",
              "      <td>7</td>\n",
              "      <td>3</td>\n",
              "      <td>3</td>\n",
              "    </tr>\n",
              "    <tr>\n",
              "      <th>2341874</th>\n",
              "      <td>a0f0d582-1c7c-11ec-a6c1-16262ee38c7f</td>\n",
              "      <td>2020-07-10</td>\n",
              "      <td>0</td>\n",
              "      <td>0</td>\n",
              "      <td>2</td>\n",
              "      <td>20.0</td>\n",
              "      <td>7</td>\n",
              "      <td>4</td>\n",
              "      <td>3</td>\n",
              "    </tr>\n",
              "    <tr>\n",
              "      <th>2341875</th>\n",
              "      <td>a0f0d582-1c7c-11ec-a6c1-16262ee38c7f</td>\n",
              "      <td>2020-08-05</td>\n",
              "      <td>1</td>\n",
              "      <td>1</td>\n",
              "      <td>2</td>\n",
              "      <td>1.0</td>\n",
              "      <td>8</td>\n",
              "      <td>2</td>\n",
              "      <td>3</td>\n",
              "    </tr>\n",
              "    <tr>\n",
              "      <th>2341876</th>\n",
              "      <td>a0f0d582-1c7c-11ec-a6c1-16262ee38c7f</td>\n",
              "      <td>2020-08-08</td>\n",
              "      <td>0</td>\n",
              "      <td>0</td>\n",
              "      <td>3</td>\n",
              "      <td>26.0</td>\n",
              "      <td>8</td>\n",
              "      <td>5</td>\n",
              "      <td>3</td>\n",
              "    </tr>\n",
              "  </tbody>\n",
              "</table>\n",
              "<p>2341877 rows × 9 columns</p>\n",
              "</div>\n",
              "      <button class=\"colab-df-convert\" onclick=\"convertToInteractive('df-94fbafce-1d0e-4bf8-b631-3f3bbc56d0f0')\"\n",
              "              title=\"Convert this dataframe to an interactive table.\"\n",
              "              style=\"display:none;\">\n",
              "        \n",
              "  <svg xmlns=\"http://www.w3.org/2000/svg\" height=\"24px\"viewBox=\"0 0 24 24\"\n",
              "       width=\"24px\">\n",
              "    <path d=\"M0 0h24v24H0V0z\" fill=\"none\"/>\n",
              "    <path d=\"M18.56 5.44l.94 2.06.94-2.06 2.06-.94-2.06-.94-.94-2.06-.94 2.06-2.06.94zm-11 1L8.5 8.5l.94-2.06 2.06-.94-2.06-.94L8.5 2.5l-.94 2.06-2.06.94zm10 10l.94 2.06.94-2.06 2.06-.94-2.06-.94-.94-2.06-.94 2.06-2.06.94z\"/><path d=\"M17.41 7.96l-1.37-1.37c-.4-.4-.92-.59-1.43-.59-.52 0-1.04.2-1.43.59L10.3 9.45l-7.72 7.72c-.78.78-.78 2.05 0 2.83L4 21.41c.39.39.9.59 1.41.59.51 0 1.02-.2 1.41-.59l7.78-7.78 2.81-2.81c.8-.78.8-2.07 0-2.86zM5.41 20L4 18.59l7.72-7.72 1.47 1.35L5.41 20z\"/>\n",
              "  </svg>\n",
              "      </button>\n",
              "      \n",
              "  <style>\n",
              "    .colab-df-container {\n",
              "      display:flex;\n",
              "      flex-wrap:wrap;\n",
              "      gap: 12px;\n",
              "    }\n",
              "\n",
              "    .colab-df-convert {\n",
              "      background-color: #E8F0FE;\n",
              "      border: none;\n",
              "      border-radius: 50%;\n",
              "      cursor: pointer;\n",
              "      display: none;\n",
              "      fill: #1967D2;\n",
              "      height: 32px;\n",
              "      padding: 0 0 0 0;\n",
              "      width: 32px;\n",
              "    }\n",
              "\n",
              "    .colab-df-convert:hover {\n",
              "      background-color: #E2EBFA;\n",
              "      box-shadow: 0px 1px 2px rgba(60, 64, 67, 0.3), 0px 1px 3px 1px rgba(60, 64, 67, 0.15);\n",
              "      fill: #174EA6;\n",
              "    }\n",
              "\n",
              "    [theme=dark] .colab-df-convert {\n",
              "      background-color: #3B4455;\n",
              "      fill: #D2E3FC;\n",
              "    }\n",
              "\n",
              "    [theme=dark] .colab-df-convert:hover {\n",
              "      background-color: #434B5C;\n",
              "      box-shadow: 0px 1px 3px 1px rgba(0, 0, 0, 0.15);\n",
              "      filter: drop-shadow(0px 1px 2px rgba(0, 0, 0, 0.3));\n",
              "      fill: #FFFFFF;\n",
              "    }\n",
              "  </style>\n",
              "\n",
              "      <script>\n",
              "        const buttonEl =\n",
              "          document.querySelector('#df-94fbafce-1d0e-4bf8-b631-3f3bbc56d0f0 button.colab-df-convert');\n",
              "        buttonEl.style.display =\n",
              "          google.colab.kernel.accessAllowed ? 'block' : 'none';\n",
              "\n",
              "        async function convertToInteractive(key) {\n",
              "          const element = document.querySelector('#df-94fbafce-1d0e-4bf8-b631-3f3bbc56d0f0');\n",
              "          const dataTable =\n",
              "            await google.colab.kernel.invokeFunction('convertToInteractive',\n",
              "                                                     [key], {});\n",
              "          if (!dataTable) return;\n",
              "\n",
              "          const docLinkHtml = 'Like what you see? Visit the ' +\n",
              "            '<a target=\"_blank\" href=https://colab.research.google.com/notebooks/data_table.ipynb>data table notebook</a>'\n",
              "            + ' to learn more about interactive tables.';\n",
              "          element.innerHTML = '';\n",
              "          dataTable['output_type'] = 'display_data';\n",
              "          await google.colab.output.renderOutput(dataTable, element);\n",
              "          const docLink = document.createElement('div');\n",
              "          docLink.innerHTML = docLinkHtml;\n",
              "          element.appendChild(docLink);\n",
              "        }\n",
              "      </script>\n",
              "    </div>\n",
              "  </div>\n",
              "  "
            ]
          },
          "metadata": {},
          "execution_count": 60
        }
      ],
      "source": [
        "grouped_data['Month'] = grouped_data['Date'].dt.month\n",
        "grouped_data['DayOfWeek'] = grouped_data['Date'].dt.dayofweek\n",
        "grouped_data['Quarter'] = grouped_data['Date'].dt.quarter\n",
        "grouped_data"
      ]
    },
    {
      "cell_type": "code",
      "execution_count": 61,
      "metadata": {
        "id": "kIGODlMx2xME"
      },
      "outputs": [],
      "source": [
        "grouped_data['Time_Since_Last_Occurrence'].ffill(inplace=True)\n"
      ]
    },
    {
      "cell_type": "code",
      "execution_count": 65,
      "metadata": {
        "colab": {
          "base_uri": "https://localhost:8080/",
          "height": 1000
        },
        "id": "v0stXrQor2jV",
        "outputId": "ecc74599-7ea3-4acf-b65d-5d0e05df8ce5"
      },
      "outputs": [
        {
          "output_type": "display_data",
          "data": {
            "text/plain": [
              "<Figure size 1200x600 with 1 Axes>"
            ],
            "image/png": "[encoded data removed]"
          },
          "metadata": {}
        },
        {
          "output_type": "display_data",
          "data": {
            "text/plain": [
              "<Figure size 1200x600 with 1 Axes>"
            ],
            "image/png": "[encoded data removed]"
          },
          "metadata": {}
        }
      ],
      "source": [
        "import seaborn as sns\n",
        "import matplotlib.pyplot as plt\n",
        "\n",
        "# Plotting the Number of Previous Occurrences\n",
        "plt.figure(figsize=(12, 6))\n",
        "sns.lineplot(data=grouped_data, x='Date', y='Num_Previous_Occurrences', hue='Eligibility', palette='Set1')\n",
        "plt.xlabel('Date')\n",
        "plt.ylabel('Number of Previous Occurrences')\n",
        "plt.title('Number of Previous Occurrences of Target Drug')\n",
        "plt.legend(title='Eligibility', loc='upper right')\n",
        "plt.show()\n",
        "\n",
        "# Plotting the Time Since Last Occurrence\n",
        "plt.figure(figsize=(12, 6))\n",
        "sns.lineplot(data=grouped_data, x='Date', y='Time_Since_Last_Occurrence', hue='Eligibility', palette='Set1')\n",
        "plt.xlabel('Date')\n",
        "plt.ylabel('Time Since Last Occurrence (days)')\n",
        "plt.title('Time Since Last Occurrence of Target Drug')\n",
        "plt.legend(title='Eligibility', loc='upper right')\n",
        "plt.show()\n"
      ]
    },
    {
      "cell_type": "code",
      "execution_count": 31,
      "metadata": {
        "colab": {
          "base_uri": "https://localhost:8080/"
        },
        "id": "z1EOogKHm_Fx",
        "outputId": "298dd857-c2fd-4c7f-a5a5-341338f07a84"
      },
      "outputs": [
        {
          "output_type": "execute_result",
          "data": {
            "text/plain": [
              "array([0, 1])"
            ]
          },
          "metadata": {},
          "execution_count": 31
        }
      ],
      "source": [
        "grouped_data.Eligibility.unique()"
      ]
    },
    {
      "cell_type": "markdown",
      "metadata": {
        "id": "ZrCy81mg1LPI"
      },
      "source": [
        "**Spliting the Data**"
      ]
    },
    {
      "cell_type": "code",
      "execution_count": 66,
      "metadata": {
        "id": "AEFeW87X1Oiu"
      },
      "outputs": [],
      "source": [
        "from sklearn.model_selection import train_test_split\n",
        "\n",
        "# Split the data into features (X) and target variable (y)\n",
        "X = grouped_data[['Num_Previous_Occurrences', 'Time_Since_Last_Occurrence', 'Month', 'DayOfWeek', 'Quarter']] #, 'Num_Previous_Occurrences', 'Time_Since_Last_Occurrence', 'Month', 'DayOfWeek', 'Quarter','Patient_Uid', 'Date', \n",
        "y = grouped_data['Eligibility']\n",
        "\n",
        "# Split the data into training and testing sets\n",
        "X_train, X_test, y_train, y_test = train_test_split(X, y, test_size=0.2, random_state=42)\n"
      ]
    },
    {
      "cell_type": "markdown",
      "metadata": {
        "id": "mTatJW9PuS6U"
      },
      "source": [
        "**Balancing the data**"
      ]
    },
    {
      "cell_type": "code",
      "source": [
        "from imblearn.over_sampling import SMOTE\n",
        "\n",
        "# Apply SMOTE to balance t he data\n",
        "smote = SMOTE(random_state=42)\n",
        "X_train_balanced, y_train_balanced = smote.fit_resample(X_train, y_train)\n"
      ],
      "metadata": {
        "id": "UloehzPKXhR_"
      },
      "execution_count": 33,
      "outputs": []
    },
    {
      "cell_type": "code",
      "execution_count": null,
      "metadata": {
        "id": "0JJKepN1yvub"
      },
      "outputs": [],
      "source": [
        "from sklearn.model_selection import train_test_split\n",
        "from imblearn.over_sampling import SMOTE\n",
        "from imblearn.under_sampling import RandomUnderSampler\n",
        "from imblearn.pipeline import Pipeline\n",
        "from sklearn.preprocessing import OrdinalEncoder\n",
        "\n",
        "# Convert 'Date' column to numerical representation\n",
        "encoder = OrdinalEncoder()\n",
        "X_train['Date'] = encoder.fit_transform(X_train[['Date']])\n",
        "X_test['Date'] = encoder.transform(X_test[['Date']])\n",
        "\n",
        "# Define the oversampler and undersampler\n",
        "oversampler = SMOTE(random_state=42)\n",
        "undersampler = RandomUnderSampler(random_state=42)\n",
        "\n",
        "# Create a pipeline with oversampling and undersampling\n",
        "pipeline = Pipeline([('oversample', oversampler), ('undersample', undersampler)])\n",
        "\n",
        "# Apply the pipeline to the training data\n",
        "X_train_balanced, y_train_balanced = pipeline.fit_resample(X_train, y_train)\n"
      ]
    },
    {
      "cell_type": "code",
      "execution_count": null,
      "metadata": {
        "id": "IV-I0CLL6CEv"
      },
      "outputs": [],
      "source": [
        "from sklearn.preprocessing import StandardScaler\n",
        "\n",
        "# Create the scaler\n",
        "scaler = StandardScaler()\n",
        "\n",
        "# Fit and transform the scaler on the balanced training data\n",
        "X_train_scaled = scaler.fit_transform(X_train_balanced)\n",
        "\n",
        "# Transform the test data using the fitted scaler\n",
        "X_test_scaled = scaler.transform(X_test)\n",
        "\n",
        "# Now you can use X_train_scaled and X_test_scaled for further modeling\n"
      ]
    },
    {
      "cell_type": "code",
      "execution_count": null,
      "metadata": {
        "colab": {
          "base_uri": "https://localhost:8080/"
        },
        "id": "9lB--msCuZKj",
        "outputId": "b4c80a1f-c317-4ac0-8a21-c46d8664c3e3"
      },
      "outputs": [
        {
          "name": "stdout",
          "output_type": "stream",
          "text": [
            "Before balancing:\n",
            "0    1819702\n",
            "1      53799\n",
            "Name: Eligibility, dtype: int64\n",
            "After balancing:\n",
            "0    1819702\n",
            "1    1819702\n",
            "Name: Eligibility, dtype: int64\n"
          ]
        }
      ],
      "source": [
        "from imblearn.over_sampling import SMOTE\n",
        "\n",
        "# Exclude the 'Date' column from X_train before resampling\n",
        "X_train_resample = X_train.drop('Date', axis=1)\n",
        "\n",
        "# Apply SMOTE to oversample the minority class\n",
        "smote = SMOTE(random_state=42)\n",
        "X_train_balanced, y_train_balanced = smote.fit_resample(X_train_resample, y_train)\n",
        "\n",
        "# Print the class distribution after balancing\n",
        "print(\"Before balancing:\")\n",
        "print(y_train.value_counts())\n",
        "\n",
        "print(\"After balancing:\")\n",
        "print(y_train_balanced.value_counts())\n",
        "\n"
      ]
    },
    {
      "cell_type": "markdown",
      "metadata": {
        "id": "PXjfytXquxlc"
      },
      "source": [
        "**Scaling the Data**"
      ]
    },
    {
      "cell_type": "code",
      "source": [
        "from sklearn.preprocessing import StandardScaler\n",
        "\n",
        "# Initialize the scaler\n",
        "scaler = StandardScaler()\n",
        "\n",
        "# Fit and transform the training set\n",
        "X_train_scaled = scaler.fit_transform(X_train_balanced)\n",
        "\n",
        "# Transform the test set (using the same scaler)\n",
        "X_test_scaled = scaler.transform(X_test)\n"
      ],
      "metadata": {
        "id": "MBT0ubqHXyDH"
      },
      "execution_count": 34,
      "outputs": []
    },
    {
      "cell_type": "code",
      "execution_count": null,
      "metadata": {
        "colab": {
          "base_uri": "https://localhost:8080/"
        },
        "id": "pdKhb4J8u19j",
        "outputId": "03e3ce0f-46f3-4a2b-bc10-56f2a31f568c"
      },
      "outputs": [
        {
          "name": "stdout",
          "output_type": "stream",
          "text": [
            "Before scaling:\n",
            "   Patient_Uid    Date  Num_Previous_Occurrences  Time_Since_Last_Occurrence  \\\n",
            "0        22252  1657.0                         0                        11.0   \n",
            "1        13810  1491.0                         0                        50.0   \n",
            "2        12825  1360.0                         0                         1.0   \n",
            "3         8659  1731.0                         0                         6.0   \n",
            "4         9435  1691.0                         0                        11.0   \n",
            "\n",
            "   Month  DayOfWeek  Quarter  \n",
            "0     10          6        4  \n",
            "1      5          1        2  \n",
            "2     12          3        4  \n",
            "3      1          3        1  \n",
            "4     11          5        4  \n",
            "After scaling:\n",
            "[[ 0.56972362  0.67708548  0.         ...  1.12166858  2.27914062\n",
            "   1.45032896]\n",
            " [-0.60334503  0.35188604  0.         ... -0.40915137 -1.07526106\n",
            "  -0.42560327]\n",
            " [-0.74021693  0.09525274  0.         ...  1.73399655  0.26649961\n",
            "   1.45032896]\n",
            " ...\n",
            " [ 0.62141535  0.35674196  0.         ... -0.40915137  0.26649961\n",
            "  -0.42560327]\n",
            " [ 0.53290022  0.65786198  0.         ...  1.12166858  0.26649961\n",
            "   1.45032896]\n",
            " [ 0.48843422  1.11731144  0.         ... -0.40915137 -1.07526106\n",
            "  -0.42560327]]\n"
          ]
        }
      ],
      "source": [
        "from sklearn.preprocessing import StandardScaler\n",
        "\n",
        "# Create an instance of the StandardScaler\n",
        "scaler = StandardScaler()\n",
        "\n",
        "# Fit the scaler on the training data\n",
        "X_train_scaled = scaler.fit_transform(X_train_balanced)\n",
        "\n",
        "# Scale the testing data using the fitted scaler\n",
        "X_test_scaled = scaler.transform(X_test)\n",
        "\n",
        "# Print the data before scaling\n",
        "print(\"Before scaling:\")\n",
        "print(X_train_balanced.head())\n",
        "\n",
        "# Print the data after scaling\n",
        "print(\"After scaling:\")\n",
        "print(X_train_scaled)\n"
      ]
    },
    {
      "cell_type": "markdown",
      "metadata": {
        "id": "2w5o0M9I1sgd"
      },
      "source": [
        "**Logistic Regression**"
      ]
    },
    {
      "cell_type": "code",
      "execution_count": 67,
      "metadata": {
        "colab": {
          "base_uri": "https://localhost:8080/"
        },
        "id": "YdDGCoor1wqw",
        "outputId": "28f6d371-55c3-43b3-82c9-70a209cb257d"
      },
      "outputs": [
        {
          "output_type": "stream",
          "name": "stdout",
          "text": [
            "Accuracy: 0.899207047329496\n",
            "F1 Score: 0.28302832409446427\n",
            "AUROC Score: 0.7998183709169024\n"
          ]
        }
      ],
      "source": [
        "from sklearn.linear_model import LogisticRegression\n",
        "from sklearn.metrics import accuracy_score, f1_score, roc_auc_score\n",
        "\n",
        "\n",
        "# Create a logistic regression model\n",
        "model = LogisticRegression()\n",
        "\n",
        "# Fit the model on the scaled training data\n",
        "model.fit(X_train_scaled, y_train_balanced)\n",
        "\n",
        "# Make predictions on the scaled test data\n",
        "y_pred = model.predict(X_test_scaled)\n",
        "\n",
        "# Calculate accuracy\n",
        "accuracy = accuracy_score(y_test, y_pred)\n",
        "\n",
        "# Calculate F1 score\n",
        "f1 = f1_score(y_test, y_pred)\n",
        "\n",
        "# Calculate AUROC score\n",
        "auroc = roc_auc_score(y_test, y_pred)\n",
        "\n",
        "# Print the scores\n",
        "print(\"Accuracy:\", accuracy)\n",
        "print(\"F1 Score:\", f1)\n",
        "print(\"AUROC Score:\", auroc)\n",
        "\n",
        "\n",
        "\n"
      ]
    },
    {
      "cell_type": "markdown",
      "metadata": {
        "id": "nFcw4c8V45nS"
      },
      "source": [
        "**Decision Tree**"
      ]
    },
    {
      "cell_type": "code",
      "execution_count": 68,
      "metadata": {
        "colab": {
          "base_uri": "https://localhost:8080/"
        },
        "id": "5oBhqBLD3Zdm",
        "outputId": "96231454-cdcf-4c39-b7d8-f4756c4013ca"
      },
      "outputs": [
        {
          "output_type": "stream",
          "name": "stdout",
          "text": [
            "Accuracy: 0.9008061898987139\n",
            "F1 Score: 0.3034065011394986\n",
            "AUROC Score: 0.8295708021766021\n"
          ]
        }
      ],
      "source": [
        "from sklearn.tree import DecisionTreeClassifier\n",
        "from sklearn.metrics import accuracy_score, f1_score, roc_auc_score\n",
        "\n",
        "# Create a decision tree classifier with predefined hyperparameters\n",
        "model = DecisionTreeClassifier(max_depth=25, min_samples_split=7, min_samples_leaf=14, random_state=30)\n",
        "\n",
        "# Fit the model on the scaled training data\n",
        "model.fit(X_train_scaled, y_train_balanced)\n",
        "\n",
        "# Make predictions on the scaled test data\n",
        "y_pred = model.predict(X_test_scaled)\n",
        "\n",
        "# Calculate accuracy\n",
        "accuracy = accuracy_score(y_test, y_pred)\n",
        "\n",
        "# Calculate F1 score\n",
        "f1 = f1_score(y_test, y_pred)\n",
        "\n",
        "# Calculate AUROC score\n",
        "auroc = roc_auc_score(y_test, y_pred)\n",
        "\n",
        "# Print the scores\n",
        "print(\"Accuracy:\", accuracy)\n",
        "print(\"F1 Score:\", f1)\n",
        "print(\"AUROC Score:\", auroc)\n",
        "\n"
      ]
    },
    {
      "cell_type": "markdown",
      "metadata": {
        "id": "g7BUZqTB49B0"
      },
      "source": [
        "**XG Boost**"
      ]
    },
    {
      "cell_type": "code",
      "execution_count": 75,
      "metadata": {
        "colab": {
          "base_uri": "https://localhost:8080/"
        },
        "id": "Gg5KVB3t4_mS",
        "outputId": "9a6d5f9c-6023-46bf-9116-4226e99d42e3"
      },
      "outputs": [
        {
          "output_type": "stream",
          "name": "stdout",
          "text": [
            "F1 Score: 0.30707109419912954\n",
            "AUROC Score: 0.8647361391716708\n"
          ]
        }
      ],
      "source": [
        "import xgboost as xgb\n",
        "from sklearn.metrics import f1_score, roc_auc_score\n",
        "\n",
        "# Create an XGBoost classifier with predefined hyperparameters\n",
        "model = xgb.XGBClassifier(max_depth=10, learning_rate=0.1, n_estimators=100, random_state=42)\n",
        "\n",
        "# Fit the model on the scaled training data\n",
        "model.fit(X_train_scaled, y_train_balanced)\n",
        "\n",
        "# Make predictions on the scaled test data\n",
        "y_pred = model.predict(X_test_scaled)\n",
        "\n",
        "# Calculate F1 score\n",
        "f1 = f1_score(y_test, y_pred)\n",
        "\n",
        "# Calculate AUROC score\n",
        "auroc = roc_auc_score(y_test, y_pred)\n",
        "\n",
        "# Print the scores\n",
        "print(\"F1 Score:\", f1)\n",
        "print(\"AUROC Score:\", auroc)\n"
      ]
    },
    {
      "cell_type": "markdown",
      "metadata": {
        "id": "YFh7h_Pz5gxX"
      },
      "source": [
        "**Random Forest**"
      ]
    },
    {
      "cell_type": "code",
      "execution_count": 76,
      "metadata": {
        "colab": {
          "base_uri": "https://localhost:8080/"
        },
        "id": "3sJfmoUn5km1",
        "outputId": "87eed581-e76e-4139-ffd6-92b29e5d3307"
      },
      "outputs": [
        {
          "output_type": "stream",
          "name": "stdout",
          "text": [
            "F1 Score: 0.301491673462945\n",
            "AUROC Score: 0.8708000726287736\n"
          ]
        }
      ],
      "source": [
        "from sklearn.ensemble import RandomForestClassifier\n",
        "from sklearn.metrics import f1_score, roc_auc_score\n",
        "\n",
        "# Create a Random Forest classifier with predefined hyperparameters\n",
        "model = RandomForestClassifier(\n",
        "    n_estimators=100,\n",
        "    max_depth=5,\n",
        "    min_samples_split=2,\n",
        "    min_samples_leaf=1,\n",
        "    random_state=42\n",
        ")\n",
        "\n",
        "# Fit the model on the scaled training data\n",
        "model.fit(X_train_scaled, y_train_balanced)\n",
        "\n",
        "# Make predictions on the scaled test data\n",
        "y_pred = model.predict(X_test_scaled)\n",
        "\n",
        "# Calculate F1 score\n",
        "f1 = f1_score(y_test, y_pred)\n",
        "\n",
        "# Calculate AUROC score\n",
        "auroc = roc_auc_score(y_test, y_pred)\n",
        "\n",
        "# Print the scores\n",
        "print(\"F1 Score:\", f1)\n",
        "print(\"AUROC Score:\", auroc)\n",
        "\n"
      ]
    },
    {
      "cell_type": "code",
      "source": [
        "# save the final predictions to a csv file\n",
        "grouped_data[[\"Patient_Uid\", \"Eligibility\"]].to_csv(\"final_submission1.csv\", index=False)"
      ],
      "metadata": {
        "id": "U1KNIUScNvvN"
      },
      "execution_count": 78,
      "outputs": []
    },
    {
      "cell_type": "code",
      "source": [
        "#TESTING THE SAVED CSV FILE\n",
        "df= pd.read_csv(\"/content/final_submission1.csv\")\n",
        "df"
      ],
      "metadata": {
        "colab": {
          "base_uri": "https://localhost:8080/",
          "height": 423
        },
        "id": "yB_w7UYSOUHU",
        "outputId": "5ca4b39d-4f5f-476d-da67-67f14c5b9262"
      },
      "execution_count": 80,
      "outputs": [
        {
          "output_type": "execute_result",
          "data": {
            "text/plain": [
              "                                  Patient_Uid  Eligibility\n",
              "0        a0db1e73-1c7c-11ec-ae39-16262ee38c7f            0\n",
              "1        a0db1e73-1c7c-11ec-ae39-16262ee38c7f            0\n",
              "2        a0db1e73-1c7c-11ec-ae39-16262ee38c7f            0\n",
              "3        a0db1e73-1c7c-11ec-ae39-16262ee38c7f            0\n",
              "4        a0db1e73-1c7c-11ec-ae39-16262ee38c7f            0\n",
              "...                                       ...          ...\n",
              "2341872  a0f0d582-1c7c-11ec-a6c1-16262ee38c7f            0\n",
              "2341873  a0f0d582-1c7c-11ec-a6c1-16262ee38c7f            1\n",
              "2341874  a0f0d582-1c7c-11ec-a6c1-16262ee38c7f            0\n",
              "2341875  a0f0d582-1c7c-11ec-a6c1-16262ee38c7f            1\n",
              "2341876  a0f0d582-1c7c-11ec-a6c1-16262ee38c7f            0\n",
              "\n",
              "[2341877 rows x 2 columns]"
            ],
            "text/html": [
              "\n",
              "  <div id=\"df-f63d8a9e-84d5-4c40-8873-e61000e0a270\">\n",
              "    <div class=\"colab-df-container\">\n",
              "      <div>\n",
              "<style scoped>\n",
              "    .dataframe tbody tr th:only-of-type {\n",
              "        vertical-align: middle;\n",
              "    }\n",
              "\n",
              "    .dataframe tbody tr th {\n",
              "        vertical-align: top;\n",
              "    }\n",
              "\n",
              "    .dataframe thead th {\n",
              "        text-align: right;\n",
              "    }\n",
              "</style>\n",
              "<table border=\"1\" class=\"dataframe\">\n",
              "  <thead>\n",
              "    <tr style=\"text-align: right;\">\n",
              "      <th></th>\n",
              "      <th>Patient_Uid</th>\n",
              "      <th>Eligibility</th>\n",
              "    </tr>\n",
              "  </thead>\n",
              "  <tbody>\n",
              "    <tr>\n",
              "      <th>0</th>\n",
              "      <td>a0db1e73-1c7c-11ec-ae39-16262ee38c7f</td>\n",
              "      <td>0</td>\n",
              "    </tr>\n",
              "    <tr>\n",
              "      <th>1</th>\n",
              "      <td>a0db1e73-1c7c-11ec-ae39-16262ee38c7f</td>\n",
              "      <td>0</td>\n",
              "    </tr>\n",
              "    <tr>\n",
              "      <th>2</th>\n",
              "      <td>a0db1e73-1c7c-11ec-ae39-16262ee38c7f</td>\n",
              "      <td>0</td>\n",
              "    </tr>\n",
              "    <tr>\n",
              "      <th>3</th>\n",
              "      <td>a0db1e73-1c7c-11ec-ae39-16262ee38c7f</td>\n",
              "      <td>0</td>\n",
              "    </tr>\n",
              "    <tr>\n",
              "      <th>4</th>\n",
              "      <td>a0db1e73-1c7c-11ec-ae39-16262ee38c7f</td>\n",
              "      <td>0</td>\n",
              "    </tr>\n",
              "    <tr>\n",
              "      <th>...</th>\n",
              "      <td>...</td>\n",
              "      <td>...</td>\n",
              "    </tr>\n",
              "    <tr>\n",
              "      <th>2341872</th>\n",
              "      <td>a0f0d582-1c7c-11ec-a6c1-16262ee38c7f</td>\n",
              "      <td>0</td>\n",
              "    </tr>\n",
              "    <tr>\n",
              "      <th>2341873</th>\n",
              "      <td>a0f0d582-1c7c-11ec-a6c1-16262ee38c7f</td>\n",
              "      <td>1</td>\n",
              "    </tr>\n",
              "    <tr>\n",
              "      <th>2341874</th>\n",
              "      <td>a0f0d582-1c7c-11ec-a6c1-16262ee38c7f</td>\n",
              "      <td>0</td>\n",
              "    </tr>\n",
              "    <tr>\n",
              "      <th>2341875</th>\n",
              "      <td>a0f0d582-1c7c-11ec-a6c1-16262ee38c7f</td>\n",
              "      <td>1</td>\n",
              "    </tr>\n",
              "    <tr>\n",
              "      <th>2341876</th>\n",
              "      <td>a0f0d582-1c7c-11ec-a6c1-16262ee38c7f</td>\n",
              "      <td>0</td>\n",
              "    </tr>\n",
              "  </tbody>\n",
              "</table>\n",
              "<p>2341877 rows × 2 columns</p>\n",
              "</div>\n",
              "      <button class=\"colab-df-convert\" onclick=\"convertToInteractive('df-f63d8a9e-84d5-4c40-8873-e61000e0a270')\"\n",
              "              title=\"Convert this dataframe to an interactive table.\"\n",
              "              style=\"display:none;\">\n",
              "        \n",
              "  <svg xmlns=\"http://www.w3.org/2000/svg\" height=\"24px\"viewBox=\"0 0 24 24\"\n",
              "       width=\"24px\">\n",
              "    <path d=\"M0 0h24v24H0V0z\" fill=\"none\"/>\n",
              "    <path d=\"M18.56 5.44l.94 2.06.94-2.06 2.06-.94-2.06-.94-.94-2.06-.94 2.06-2.06.94zm-11 1L8.5 8.5l.94-2.06 2.06-.94-2.06-.94L8.5 2.5l-.94 2.06-2.06.94zm10 10l.94 2.06.94-2.06 2.06-.94-2.06-.94-.94-2.06-.94 2.06-2.06.94z\"/><path d=\"M17.41 7.96l-1.37-1.37c-.4-.4-.92-.59-1.43-.59-.52 0-1.04.2-1.43.59L10.3 9.45l-7.72 7.72c-.78.78-.78 2.05 0 2.83L4 21.41c.39.39.9.59 1.41.59.51 0 1.02-.2 1.41-.59l7.78-7.78 2.81-2.81c.8-.78.8-2.07 0-2.86zM5.41 20L4 18.59l7.72-7.72 1.47 1.35L5.41 20z\"/>\n",
              "  </svg>\n",
              "      </button>\n",
              "      \n",
              "  <style>\n",
              "    .colab-df-container {\n",
              "      display:flex;\n",
              "      flex-wrap:wrap;\n",
              "      gap: 12px;\n",
              "    }\n",
              "\n",
              "    .colab-df-convert {\n",
              "      background-color: #E8F0FE;\n",
              "      border: none;\n",
              "      border-radius: 50%;\n",
              "      cursor: pointer;\n",
              "      display: none;\n",
              "      fill: #1967D2;\n",
              "      height: 32px;\n",
              "      padding: 0 0 0 0;\n",
              "      width: 32px;\n",
              "    }\n",
              "\n",
              "    .colab-df-convert:hover {\n",
              "      background-color: #E2EBFA;\n",
              "      box-shadow: 0px 1px 2px rgba(60, 64, 67, 0.3), 0px 1px 3px 1px rgba(60, 64, 67, 0.15);\n",
              "      fill: #174EA6;\n",
              "    }\n",
              "\n",
              "    [theme=dark] .colab-df-convert {\n",
              "      background-color: #3B4455;\n",
              "      fill: #D2E3FC;\n",
              "    }\n",
              "\n",
              "    [theme=dark] .colab-df-convert:hover {\n",
              "      background-color: #434B5C;\n",
              "      box-shadow: 0px 1px 3px 1px rgba(0, 0, 0, 0.15);\n",
              "      filter: drop-shadow(0px 1px 2px rgba(0, 0, 0, 0.3));\n",
              "      fill: #FFFFFF;\n",
              "    }\n",
              "  </style>\n",
              "\n",
              "      <script>\n",
              "        const buttonEl =\n",
              "          document.querySelector('#df-f63d8a9e-84d5-4c40-8873-e61000e0a270 button.colab-df-convert');\n",
              "        buttonEl.style.display =\n",
              "          google.colab.kernel.accessAllowed ? 'block' : 'none';\n",
              "\n",
              "        async function convertToInteractive(key) {\n",
              "          const element = document.querySelector('#df-f63d8a9e-84d5-4c40-8873-e61000e0a270');\n",
              "          const dataTable =\n",
              "            await google.colab.kernel.invokeFunction('convertToInteractive',\n",
              "                                                     [key], {});\n",
              "          if (!dataTable) return;\n",
              "\n",
              "          const docLinkHtml = 'Like what you see? Visit the ' +\n",
              "            '<a target=\"_blank\" href=https://colab.research.google.com/notebooks/data_table.ipynb>data table notebook</a>'\n",
              "            + ' to learn more about interactive tables.';\n",
              "          element.innerHTML = '';\n",
              "          dataTable['output_type'] = 'display_data';\n",
              "          await google.colab.output.renderOutput(dataTable, element);\n",
              "          const docLink = document.createElement('div');\n",
              "          docLink.innerHTML = docLinkHtml;\n",
              "          element.appendChild(docLink);\n",
              "        }\n",
              "      </script>\n",
              "    </div>\n",
              "  </div>\n",
              "  "
            ]
          },
          "metadata": {},
          "execution_count": 80
        }
      ]
    },
    {
      "cell_type": "markdown",
      "metadata": {
        "id": "P_2NJMwV7p6o"
      },
      "source": [
        "**Xg Boost Gives the Better F1 Score**"
      ]
    }
  ],
  "metadata": {
    "colab": {
      "provenance": [],
      "authorship_tag": "ABX9TyMBQi0KBF6s7zC0SsEL3h2U",
      "include_colab_link": true
    },
    "kernelspec": {
      "display_name": "Python 3",
      "name": "python3"
    },
    "language_info": {
      "name": "python"
    }
  },
  "nbformat": 4,
  "nbformat_minor": 0
}